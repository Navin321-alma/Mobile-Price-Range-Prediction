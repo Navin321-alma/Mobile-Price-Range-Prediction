{
  "nbformat": 4,
  "nbformat_minor": 0,
  "metadata": {
    "colab": {
      "name": "Mobile Price Range Prediction",
      "provenance": [],
      "collapsed_sections": [],
      "include_colab_link": true
    },
    "kernelspec": {
      "name": "python3",
      "display_name": "Python 3"
    },
    "language_info": {
      "name": "python"
    }
  },
  "cells": [
    {
      "cell_type": "markdown",
      "metadata": {
        "id": "view-in-github",
        "colab_type": "text"
      },
      "source": [
        "<a href=\"https://colab.research.google.com/github/Navin321-alma/Mobile-Price-Range-Prediction-Classification/blob/main/Mobile_Price_Range_Prediction.ipynb\" target=\"_parent\"><img src=\"https://colab.research.google.com/assets/colab-badge.svg\" alt=\"Open In Colab\"/></a>"
      ]
    },
    {
      "cell_type": "markdown",
      "metadata": {
        "id": "-2hG4fglkamR"
      },
      "source": [
        "###**MOBILE PRICE RANGE PREDICTION**"
      ]
    },
    {
      "cell_type": "markdown",
      "metadata": {
        "id": "F8jNWSS4fo9z"
      },
      "source": [
        "In the competitive mobile phone market companies want\n",
        "to understand sales data of mobile phones and factors which drive the prices.\n",
        "The objective is to find out some relation between features of a mobile phone(eg:- RAM,\n",
        "Internal Memory, etc) and its selling price. In this problem, we do not have to predict the\n",
        "actual price but a price range indicating how high the price is.\n",
        "\n",
        "#**Data Description** -\n",
        "Battery_power - Total energy a battery can store in one time measured in mAh\n",
        "\n",
        "Blue - Has bluetooth or not\n",
        "\n",
        "Clock_speed - speed at which microprocessor executes instructions\n",
        "\n",
        "Dual_sim - Has dual sim support or not\n",
        "\n",
        "Fc - Front Camera mega pixels\n",
        "\n",
        "Four_g - Has 4G or not\n",
        "\n",
        "Int_memory - Internal Memory in Gigabytes\n",
        "\n",
        "M_dep - Mobile Depth in cm\n",
        "\n",
        "Mobile_wt - Weight of mobile phone\n",
        "\n",
        "N_cores - Number of cores of processor\n",
        "\n",
        "Pc - Primary Camera mega pixels\n",
        "\n",
        "Px_height - Pixel Resolution Height\n",
        "\n",
        "Px_width - Pixel Resolution Width\n",
        "\n",
        "Ram - Random Access Memory in Mega Bytes\n",
        "\n",
        "Sc_h - Screen Height of mobile in cm\n",
        "\n",
        "Sc_w - Screen Width of mobile in cm\n",
        "\n",
        "Talk_time - longest time that a single battery charge will last when you are\n",
        "\n",
        "Three_g - Has 3G or not\n",
        "\n",
        "Touch_screen - Has touch screen or not\n",
        "\n",
        "Wifi - Has wifi or not\n",
        "\n",
        "Price_range - This is the target variable with value of 0(low cost), 1(medium cost),2(high cost) and 3(very high cost)."
      ]
    },
    {
      "cell_type": "markdown",
      "metadata": {
        "id": "gojFyk0JgAn8"
      },
      "source": [
        "#**Importing Libraries**"
      ]
    },
    {
      "cell_type": "code",
      "metadata": {
        "id": "zGoBbB_Ne5it"
      },
      "source": [
        "#Importing the libraries\n",
        "import pandas as pd\n",
        "import numpy as np\n",
        "import matplotlib.pyplot as plt\n",
        "import seaborn as sns\n",
        "\n",
        "from sklearn.model_selection import train_test_split\n",
        "from sklearn.preprocessing import OneHotEncoder\n",
        "from sklearn.model_selection import GridSearchCV\n",
        "from sklearn.model_selection import RandomizedSearchCV\n",
        "from sklearn.model_selection import train_test_split\n",
        "from sklearn import ensemble\n",
        "from sklearn.tree import DecisionTreeClassifier\n",
        "from sklearn.ensemble import GradientBoostingClassifier\n",
        "\n",
        "from sklearn.metrics import confusion_matrix , plot_confusion_matrix\n",
        "from sklearn.metrics import classification_report\n",
        "from sklearn.metrics import roc_auc_score\n",
        "from sklearn.metrics import auc\n",
        "from sklearn.metrics import precision_score\n",
        "from sklearn.metrics import recall_score\n",
        "from sklearn.metrics import accuracy_score\n",
        "from sklearn.metrics import mean_squared_error\n",
        "from sklearn.metrics import f1_score\n",
        "from sklearn.metrics import roc_curve\n"
      ],
      "execution_count": 10,
      "outputs": []
    },
    {
      "cell_type": "code",
      "metadata": {
        "colab": {
          "base_uri": "https://localhost:8080/"
        },
        "id": "U_-MNyzOghP9",
        "outputId": "09d51934-48b1-4ab6-d482-27d37abbd954"
      },
      "source": [
        "#Mounting drive\n",
        "from google.colab import drive\n",
        "drive.mount('/content/drive')"
      ],
      "execution_count": 11,
      "outputs": [
        {
          "output_type": "stream",
          "name": "stdout",
          "text": [
            "Drive already mounted at /content/drive; to attempt to forcibly remount, call drive.mount(\"/content/drive\", force_remount=True).\n"
          ]
        }
      ]
    },
    {
      "cell_type": "markdown",
      "metadata": {
        "id": "ihV_3OYpgsaY"
      },
      "source": [
        "**Reading the Data**"
      ]
    },
    {
      "cell_type": "code",
      "metadata": {
        "id": "rZylTuJBgixM"
      },
      "source": [
        "#Reading a data file\n",
        "df = pd.read_csv('/content/drive/MyDrive/Colab Notebooks/data_mobile_price_range.csv')"
      ],
      "execution_count": 19,
      "outputs": []
    },
    {
      "cell_type": "code",
      "metadata": {
        "colab": {
          "base_uri": "https://localhost:8080/",
          "height": 224
        },
        "id": "51oMv3ubhLXT",
        "outputId": "ed7f87f7-183d-4149-d7c2-b8dccd667d0d"
      },
      "source": [
        "#It gives Top 5 rows of Dataset \n",
        "df.head()"
      ],
      "execution_count": 20,
      "outputs": [
        {
          "output_type": "execute_result",
          "data": {
            "text/html": [
              "<div>\n",
              "<style scoped>\n",
              "    .dataframe tbody tr th:only-of-type {\n",
              "        vertical-align: middle;\n",
              "    }\n",
              "\n",
              "    .dataframe tbody tr th {\n",
              "        vertical-align: top;\n",
              "    }\n",
              "\n",
              "    .dataframe thead th {\n",
              "        text-align: right;\n",
              "    }\n",
              "</style>\n",
              "<table border=\"1\" class=\"dataframe\">\n",
              "  <thead>\n",
              "    <tr style=\"text-align: right;\">\n",
              "      <th></th>\n",
              "      <th>battery_power</th>\n",
              "      <th>blue</th>\n",
              "      <th>clock_speed</th>\n",
              "      <th>dual_sim</th>\n",
              "      <th>fc</th>\n",
              "      <th>four_g</th>\n",
              "      <th>int_memory</th>\n",
              "      <th>m_dep</th>\n",
              "      <th>mobile_wt</th>\n",
              "      <th>n_cores</th>\n",
              "      <th>pc</th>\n",
              "      <th>px_height</th>\n",
              "      <th>px_width</th>\n",
              "      <th>ram</th>\n",
              "      <th>sc_h</th>\n",
              "      <th>sc_w</th>\n",
              "      <th>talk_time</th>\n",
              "      <th>three_g</th>\n",
              "      <th>touch_screen</th>\n",
              "      <th>wifi</th>\n",
              "      <th>price_range</th>\n",
              "    </tr>\n",
              "  </thead>\n",
              "  <tbody>\n",
              "    <tr>\n",
              "      <th>0</th>\n",
              "      <td>842</td>\n",
              "      <td>0</td>\n",
              "      <td>2.2</td>\n",
              "      <td>0</td>\n",
              "      <td>1</td>\n",
              "      <td>0</td>\n",
              "      <td>7</td>\n",
              "      <td>0.6</td>\n",
              "      <td>188</td>\n",
              "      <td>2</td>\n",
              "      <td>2</td>\n",
              "      <td>20</td>\n",
              "      <td>756</td>\n",
              "      <td>2549</td>\n",
              "      <td>9</td>\n",
              "      <td>7</td>\n",
              "      <td>19</td>\n",
              "      <td>0</td>\n",
              "      <td>0</td>\n",
              "      <td>1</td>\n",
              "      <td>1</td>\n",
              "    </tr>\n",
              "    <tr>\n",
              "      <th>1</th>\n",
              "      <td>1021</td>\n",
              "      <td>1</td>\n",
              "      <td>0.5</td>\n",
              "      <td>1</td>\n",
              "      <td>0</td>\n",
              "      <td>1</td>\n",
              "      <td>53</td>\n",
              "      <td>0.7</td>\n",
              "      <td>136</td>\n",
              "      <td>3</td>\n",
              "      <td>6</td>\n",
              "      <td>905</td>\n",
              "      <td>1988</td>\n",
              "      <td>2631</td>\n",
              "      <td>17</td>\n",
              "      <td>3</td>\n",
              "      <td>7</td>\n",
              "      <td>1</td>\n",
              "      <td>1</td>\n",
              "      <td>0</td>\n",
              "      <td>2</td>\n",
              "    </tr>\n",
              "    <tr>\n",
              "      <th>2</th>\n",
              "      <td>563</td>\n",
              "      <td>1</td>\n",
              "      <td>0.5</td>\n",
              "      <td>1</td>\n",
              "      <td>2</td>\n",
              "      <td>1</td>\n",
              "      <td>41</td>\n",
              "      <td>0.9</td>\n",
              "      <td>145</td>\n",
              "      <td>5</td>\n",
              "      <td>6</td>\n",
              "      <td>1263</td>\n",
              "      <td>1716</td>\n",
              "      <td>2603</td>\n",
              "      <td>11</td>\n",
              "      <td>2</td>\n",
              "      <td>9</td>\n",
              "      <td>1</td>\n",
              "      <td>1</td>\n",
              "      <td>0</td>\n",
              "      <td>2</td>\n",
              "    </tr>\n",
              "    <tr>\n",
              "      <th>3</th>\n",
              "      <td>615</td>\n",
              "      <td>1</td>\n",
              "      <td>2.5</td>\n",
              "      <td>0</td>\n",
              "      <td>0</td>\n",
              "      <td>0</td>\n",
              "      <td>10</td>\n",
              "      <td>0.8</td>\n",
              "      <td>131</td>\n",
              "      <td>6</td>\n",
              "      <td>9</td>\n",
              "      <td>1216</td>\n",
              "      <td>1786</td>\n",
              "      <td>2769</td>\n",
              "      <td>16</td>\n",
              "      <td>8</td>\n",
              "      <td>11</td>\n",
              "      <td>1</td>\n",
              "      <td>0</td>\n",
              "      <td>0</td>\n",
              "      <td>2</td>\n",
              "    </tr>\n",
              "    <tr>\n",
              "      <th>4</th>\n",
              "      <td>1821</td>\n",
              "      <td>1</td>\n",
              "      <td>1.2</td>\n",
              "      <td>0</td>\n",
              "      <td>13</td>\n",
              "      <td>1</td>\n",
              "      <td>44</td>\n",
              "      <td>0.6</td>\n",
              "      <td>141</td>\n",
              "      <td>2</td>\n",
              "      <td>14</td>\n",
              "      <td>1208</td>\n",
              "      <td>1212</td>\n",
              "      <td>1411</td>\n",
              "      <td>8</td>\n",
              "      <td>2</td>\n",
              "      <td>15</td>\n",
              "      <td>1</td>\n",
              "      <td>1</td>\n",
              "      <td>0</td>\n",
              "      <td>1</td>\n",
              "    </tr>\n",
              "  </tbody>\n",
              "</table>\n",
              "</div>"
            ],
            "text/plain": [
              "   battery_power  blue  clock_speed  ...  touch_screen  wifi  price_range\n",
              "0            842     0          2.2  ...             0     1            1\n",
              "1           1021     1          0.5  ...             1     0            2\n",
              "2            563     1          0.5  ...             1     0            2\n",
              "3            615     1          2.5  ...             0     0            2\n",
              "4           1821     1          1.2  ...             1     0            1\n",
              "\n",
              "[5 rows x 21 columns]"
            ]
          },
          "metadata": {},
          "execution_count": 20
        }
      ]
    },
    {
      "cell_type": "code",
      "metadata": {
        "colab": {
          "base_uri": "https://localhost:8080/",
          "height": 224
        },
        "id": "eFmklib1hP7W",
        "outputId": "94ba61a0-c8f4-43a1-9aac-9d860a408391"
      },
      "source": [
        "#It gives last 5 rows of Dataset\n",
        "df.tail()"
      ],
      "execution_count": 21,
      "outputs": [
        {
          "output_type": "execute_result",
          "data": {
            "text/html": [
              "<div>\n",
              "<style scoped>\n",
              "    .dataframe tbody tr th:only-of-type {\n",
              "        vertical-align: middle;\n",
              "    }\n",
              "\n",
              "    .dataframe tbody tr th {\n",
              "        vertical-align: top;\n",
              "    }\n",
              "\n",
              "    .dataframe thead th {\n",
              "        text-align: right;\n",
              "    }\n",
              "</style>\n",
              "<table border=\"1\" class=\"dataframe\">\n",
              "  <thead>\n",
              "    <tr style=\"text-align: right;\">\n",
              "      <th></th>\n",
              "      <th>battery_power</th>\n",
              "      <th>blue</th>\n",
              "      <th>clock_speed</th>\n",
              "      <th>dual_sim</th>\n",
              "      <th>fc</th>\n",
              "      <th>four_g</th>\n",
              "      <th>int_memory</th>\n",
              "      <th>m_dep</th>\n",
              "      <th>mobile_wt</th>\n",
              "      <th>n_cores</th>\n",
              "      <th>pc</th>\n",
              "      <th>px_height</th>\n",
              "      <th>px_width</th>\n",
              "      <th>ram</th>\n",
              "      <th>sc_h</th>\n",
              "      <th>sc_w</th>\n",
              "      <th>talk_time</th>\n",
              "      <th>three_g</th>\n",
              "      <th>touch_screen</th>\n",
              "      <th>wifi</th>\n",
              "      <th>price_range</th>\n",
              "    </tr>\n",
              "  </thead>\n",
              "  <tbody>\n",
              "    <tr>\n",
              "      <th>1995</th>\n",
              "      <td>794</td>\n",
              "      <td>1</td>\n",
              "      <td>0.5</td>\n",
              "      <td>1</td>\n",
              "      <td>0</td>\n",
              "      <td>1</td>\n",
              "      <td>2</td>\n",
              "      <td>0.8</td>\n",
              "      <td>106</td>\n",
              "      <td>6</td>\n",
              "      <td>14</td>\n",
              "      <td>1222</td>\n",
              "      <td>1890</td>\n",
              "      <td>668</td>\n",
              "      <td>13</td>\n",
              "      <td>4</td>\n",
              "      <td>19</td>\n",
              "      <td>1</td>\n",
              "      <td>1</td>\n",
              "      <td>0</td>\n",
              "      <td>0</td>\n",
              "    </tr>\n",
              "    <tr>\n",
              "      <th>1996</th>\n",
              "      <td>1965</td>\n",
              "      <td>1</td>\n",
              "      <td>2.6</td>\n",
              "      <td>1</td>\n",
              "      <td>0</td>\n",
              "      <td>0</td>\n",
              "      <td>39</td>\n",
              "      <td>0.2</td>\n",
              "      <td>187</td>\n",
              "      <td>4</td>\n",
              "      <td>3</td>\n",
              "      <td>915</td>\n",
              "      <td>1965</td>\n",
              "      <td>2032</td>\n",
              "      <td>11</td>\n",
              "      <td>10</td>\n",
              "      <td>16</td>\n",
              "      <td>1</td>\n",
              "      <td>1</td>\n",
              "      <td>1</td>\n",
              "      <td>2</td>\n",
              "    </tr>\n",
              "    <tr>\n",
              "      <th>1997</th>\n",
              "      <td>1911</td>\n",
              "      <td>0</td>\n",
              "      <td>0.9</td>\n",
              "      <td>1</td>\n",
              "      <td>1</td>\n",
              "      <td>1</td>\n",
              "      <td>36</td>\n",
              "      <td>0.7</td>\n",
              "      <td>108</td>\n",
              "      <td>8</td>\n",
              "      <td>3</td>\n",
              "      <td>868</td>\n",
              "      <td>1632</td>\n",
              "      <td>3057</td>\n",
              "      <td>9</td>\n",
              "      <td>1</td>\n",
              "      <td>5</td>\n",
              "      <td>1</td>\n",
              "      <td>1</td>\n",
              "      <td>0</td>\n",
              "      <td>3</td>\n",
              "    </tr>\n",
              "    <tr>\n",
              "      <th>1998</th>\n",
              "      <td>1512</td>\n",
              "      <td>0</td>\n",
              "      <td>0.9</td>\n",
              "      <td>0</td>\n",
              "      <td>4</td>\n",
              "      <td>1</td>\n",
              "      <td>46</td>\n",
              "      <td>0.1</td>\n",
              "      <td>145</td>\n",
              "      <td>5</td>\n",
              "      <td>5</td>\n",
              "      <td>336</td>\n",
              "      <td>670</td>\n",
              "      <td>869</td>\n",
              "      <td>18</td>\n",
              "      <td>10</td>\n",
              "      <td>19</td>\n",
              "      <td>1</td>\n",
              "      <td>1</td>\n",
              "      <td>1</td>\n",
              "      <td>0</td>\n",
              "    </tr>\n",
              "    <tr>\n",
              "      <th>1999</th>\n",
              "      <td>510</td>\n",
              "      <td>1</td>\n",
              "      <td>2.0</td>\n",
              "      <td>1</td>\n",
              "      <td>5</td>\n",
              "      <td>1</td>\n",
              "      <td>45</td>\n",
              "      <td>0.9</td>\n",
              "      <td>168</td>\n",
              "      <td>6</td>\n",
              "      <td>16</td>\n",
              "      <td>483</td>\n",
              "      <td>754</td>\n",
              "      <td>3919</td>\n",
              "      <td>19</td>\n",
              "      <td>4</td>\n",
              "      <td>2</td>\n",
              "      <td>1</td>\n",
              "      <td>1</td>\n",
              "      <td>1</td>\n",
              "      <td>3</td>\n",
              "    </tr>\n",
              "  </tbody>\n",
              "</table>\n",
              "</div>"
            ],
            "text/plain": [
              "      battery_power  blue  clock_speed  ...  touch_screen  wifi  price_range\n",
              "1995            794     1          0.5  ...             1     0            0\n",
              "1996           1965     1          2.6  ...             1     1            2\n",
              "1997           1911     0          0.9  ...             1     0            3\n",
              "1998           1512     0          0.9  ...             1     1            0\n",
              "1999            510     1          2.0  ...             1     1            3\n",
              "\n",
              "[5 rows x 21 columns]"
            ]
          },
          "metadata": {},
          "execution_count": 21
        }
      ]
    },
    {
      "cell_type": "code",
      "metadata": {
        "colab": {
          "base_uri": "https://localhost:8080/"
        },
        "id": "IGnEuRoMxEWK",
        "outputId": "af2d791f-ace6-4801-f170-f348806a7aca"
      },
      "source": [
        "# It gives Total number of rows and columns of dataset\n",
        "df.shape"
      ],
      "execution_count": 22,
      "outputs": [
        {
          "output_type": "execute_result",
          "data": {
            "text/plain": [
              "(2000, 21)"
            ]
          },
          "metadata": {},
          "execution_count": 22
        }
      ]
    },
    {
      "cell_type": "markdown",
      "metadata": {
        "id": "0No893esxRXh"
      },
      "source": [
        "The dataset has 2000 rows and 21 columns"
      ]
    },
    {
      "cell_type": "code",
      "metadata": {
        "colab": {
          "base_uri": "https://localhost:8080/",
          "height": 317
        },
        "id": "WA5M0NGZUYG_",
        "outputId": "9717aba3-5688-4450-ada4-aa64658bbbd9"
      },
      "source": [
        "#It gives some basic statistical details like percentile, mean, std, max etc.\n",
        "df.describe()"
      ],
      "execution_count": 23,
      "outputs": [
        {
          "output_type": "execute_result",
          "data": {
            "text/html": [
              "<div>\n",
              "<style scoped>\n",
              "    .dataframe tbody tr th:only-of-type {\n",
              "        vertical-align: middle;\n",
              "    }\n",
              "\n",
              "    .dataframe tbody tr th {\n",
              "        vertical-align: top;\n",
              "    }\n",
              "\n",
              "    .dataframe thead th {\n",
              "        text-align: right;\n",
              "    }\n",
              "</style>\n",
              "<table border=\"1\" class=\"dataframe\">\n",
              "  <thead>\n",
              "    <tr style=\"text-align: right;\">\n",
              "      <th></th>\n",
              "      <th>battery_power</th>\n",
              "      <th>blue</th>\n",
              "      <th>clock_speed</th>\n",
              "      <th>dual_sim</th>\n",
              "      <th>fc</th>\n",
              "      <th>four_g</th>\n",
              "      <th>int_memory</th>\n",
              "      <th>m_dep</th>\n",
              "      <th>mobile_wt</th>\n",
              "      <th>n_cores</th>\n",
              "      <th>pc</th>\n",
              "      <th>px_height</th>\n",
              "      <th>px_width</th>\n",
              "      <th>ram</th>\n",
              "      <th>sc_h</th>\n",
              "      <th>sc_w</th>\n",
              "      <th>talk_time</th>\n",
              "      <th>three_g</th>\n",
              "      <th>touch_screen</th>\n",
              "      <th>wifi</th>\n",
              "      <th>price_range</th>\n",
              "    </tr>\n",
              "  </thead>\n",
              "  <tbody>\n",
              "    <tr>\n",
              "      <th>count</th>\n",
              "      <td>2000.000000</td>\n",
              "      <td>2000.0000</td>\n",
              "      <td>2000.000000</td>\n",
              "      <td>2000.000000</td>\n",
              "      <td>2000.000000</td>\n",
              "      <td>2000.000000</td>\n",
              "      <td>2000.000000</td>\n",
              "      <td>2000.000000</td>\n",
              "      <td>2000.000000</td>\n",
              "      <td>2000.000000</td>\n",
              "      <td>2000.000000</td>\n",
              "      <td>2000.000000</td>\n",
              "      <td>2000.000000</td>\n",
              "      <td>2000.000000</td>\n",
              "      <td>2000.000000</td>\n",
              "      <td>2000.000000</td>\n",
              "      <td>2000.000000</td>\n",
              "      <td>2000.000000</td>\n",
              "      <td>2000.000000</td>\n",
              "      <td>2000.000000</td>\n",
              "      <td>2000.000000</td>\n",
              "    </tr>\n",
              "    <tr>\n",
              "      <th>mean</th>\n",
              "      <td>1238.518500</td>\n",
              "      <td>0.4950</td>\n",
              "      <td>1.522250</td>\n",
              "      <td>0.509500</td>\n",
              "      <td>4.309500</td>\n",
              "      <td>0.521500</td>\n",
              "      <td>32.046500</td>\n",
              "      <td>0.501750</td>\n",
              "      <td>140.249000</td>\n",
              "      <td>4.520500</td>\n",
              "      <td>9.916500</td>\n",
              "      <td>645.108000</td>\n",
              "      <td>1251.515500</td>\n",
              "      <td>2124.213000</td>\n",
              "      <td>12.306500</td>\n",
              "      <td>5.767000</td>\n",
              "      <td>11.011000</td>\n",
              "      <td>0.761500</td>\n",
              "      <td>0.503000</td>\n",
              "      <td>0.507000</td>\n",
              "      <td>1.500000</td>\n",
              "    </tr>\n",
              "    <tr>\n",
              "      <th>std</th>\n",
              "      <td>439.418206</td>\n",
              "      <td>0.5001</td>\n",
              "      <td>0.816004</td>\n",
              "      <td>0.500035</td>\n",
              "      <td>4.341444</td>\n",
              "      <td>0.499662</td>\n",
              "      <td>18.145715</td>\n",
              "      <td>0.288416</td>\n",
              "      <td>35.399655</td>\n",
              "      <td>2.287837</td>\n",
              "      <td>6.064315</td>\n",
              "      <td>443.780811</td>\n",
              "      <td>432.199447</td>\n",
              "      <td>1084.732044</td>\n",
              "      <td>4.213245</td>\n",
              "      <td>4.356398</td>\n",
              "      <td>5.463955</td>\n",
              "      <td>0.426273</td>\n",
              "      <td>0.500116</td>\n",
              "      <td>0.500076</td>\n",
              "      <td>1.118314</td>\n",
              "    </tr>\n",
              "    <tr>\n",
              "      <th>min</th>\n",
              "      <td>501.000000</td>\n",
              "      <td>0.0000</td>\n",
              "      <td>0.500000</td>\n",
              "      <td>0.000000</td>\n",
              "      <td>0.000000</td>\n",
              "      <td>0.000000</td>\n",
              "      <td>2.000000</td>\n",
              "      <td>0.100000</td>\n",
              "      <td>80.000000</td>\n",
              "      <td>1.000000</td>\n",
              "      <td>0.000000</td>\n",
              "      <td>0.000000</td>\n",
              "      <td>500.000000</td>\n",
              "      <td>256.000000</td>\n",
              "      <td>5.000000</td>\n",
              "      <td>0.000000</td>\n",
              "      <td>2.000000</td>\n",
              "      <td>0.000000</td>\n",
              "      <td>0.000000</td>\n",
              "      <td>0.000000</td>\n",
              "      <td>0.000000</td>\n",
              "    </tr>\n",
              "    <tr>\n",
              "      <th>25%</th>\n",
              "      <td>851.750000</td>\n",
              "      <td>0.0000</td>\n",
              "      <td>0.700000</td>\n",
              "      <td>0.000000</td>\n",
              "      <td>1.000000</td>\n",
              "      <td>0.000000</td>\n",
              "      <td>16.000000</td>\n",
              "      <td>0.200000</td>\n",
              "      <td>109.000000</td>\n",
              "      <td>3.000000</td>\n",
              "      <td>5.000000</td>\n",
              "      <td>282.750000</td>\n",
              "      <td>874.750000</td>\n",
              "      <td>1207.500000</td>\n",
              "      <td>9.000000</td>\n",
              "      <td>2.000000</td>\n",
              "      <td>6.000000</td>\n",
              "      <td>1.000000</td>\n",
              "      <td>0.000000</td>\n",
              "      <td>0.000000</td>\n",
              "      <td>0.750000</td>\n",
              "    </tr>\n",
              "    <tr>\n",
              "      <th>50%</th>\n",
              "      <td>1226.000000</td>\n",
              "      <td>0.0000</td>\n",
              "      <td>1.500000</td>\n",
              "      <td>1.000000</td>\n",
              "      <td>3.000000</td>\n",
              "      <td>1.000000</td>\n",
              "      <td>32.000000</td>\n",
              "      <td>0.500000</td>\n",
              "      <td>141.000000</td>\n",
              "      <td>4.000000</td>\n",
              "      <td>10.000000</td>\n",
              "      <td>564.000000</td>\n",
              "      <td>1247.000000</td>\n",
              "      <td>2146.500000</td>\n",
              "      <td>12.000000</td>\n",
              "      <td>5.000000</td>\n",
              "      <td>11.000000</td>\n",
              "      <td>1.000000</td>\n",
              "      <td>1.000000</td>\n",
              "      <td>1.000000</td>\n",
              "      <td>1.500000</td>\n",
              "    </tr>\n",
              "    <tr>\n",
              "      <th>75%</th>\n",
              "      <td>1615.250000</td>\n",
              "      <td>1.0000</td>\n",
              "      <td>2.200000</td>\n",
              "      <td>1.000000</td>\n",
              "      <td>7.000000</td>\n",
              "      <td>1.000000</td>\n",
              "      <td>48.000000</td>\n",
              "      <td>0.800000</td>\n",
              "      <td>170.000000</td>\n",
              "      <td>7.000000</td>\n",
              "      <td>15.000000</td>\n",
              "      <td>947.250000</td>\n",
              "      <td>1633.000000</td>\n",
              "      <td>3064.500000</td>\n",
              "      <td>16.000000</td>\n",
              "      <td>9.000000</td>\n",
              "      <td>16.000000</td>\n",
              "      <td>1.000000</td>\n",
              "      <td>1.000000</td>\n",
              "      <td>1.000000</td>\n",
              "      <td>2.250000</td>\n",
              "    </tr>\n",
              "    <tr>\n",
              "      <th>max</th>\n",
              "      <td>1998.000000</td>\n",
              "      <td>1.0000</td>\n",
              "      <td>3.000000</td>\n",
              "      <td>1.000000</td>\n",
              "      <td>19.000000</td>\n",
              "      <td>1.000000</td>\n",
              "      <td>64.000000</td>\n",
              "      <td>1.000000</td>\n",
              "      <td>200.000000</td>\n",
              "      <td>8.000000</td>\n",
              "      <td>20.000000</td>\n",
              "      <td>1960.000000</td>\n",
              "      <td>1998.000000</td>\n",
              "      <td>3998.000000</td>\n",
              "      <td>19.000000</td>\n",
              "      <td>18.000000</td>\n",
              "      <td>20.000000</td>\n",
              "      <td>1.000000</td>\n",
              "      <td>1.000000</td>\n",
              "      <td>1.000000</td>\n",
              "      <td>3.000000</td>\n",
              "    </tr>\n",
              "  </tbody>\n",
              "</table>\n",
              "</div>"
            ],
            "text/plain": [
              "       battery_power       blue  ...         wifi  price_range\n",
              "count    2000.000000  2000.0000  ...  2000.000000  2000.000000\n",
              "mean     1238.518500     0.4950  ...     0.507000     1.500000\n",
              "std       439.418206     0.5001  ...     0.500076     1.118314\n",
              "min       501.000000     0.0000  ...     0.000000     0.000000\n",
              "25%       851.750000     0.0000  ...     0.000000     0.750000\n",
              "50%      1226.000000     0.0000  ...     1.000000     1.500000\n",
              "75%      1615.250000     1.0000  ...     1.000000     2.250000\n",
              "max      1998.000000     1.0000  ...     1.000000     3.000000\n",
              "\n",
              "[8 rows x 21 columns]"
            ]
          },
          "metadata": {},
          "execution_count": 23
        }
      ]
    },
    {
      "cell_type": "code",
      "metadata": {
        "colab": {
          "base_uri": "https://localhost:8080/"
        },
        "id": "ZJLVSGwN-oy4",
        "outputId": "c69d0f67-3ded-4686-c252-8037d9d4e315"
      },
      "source": [
        "#It gives total columns, data types and null count of dataset\n",
        "df.info()"
      ],
      "execution_count": 24,
      "outputs": [
        {
          "output_type": "stream",
          "name": "stdout",
          "text": [
            "<class 'pandas.core.frame.DataFrame'>\n",
            "RangeIndex: 2000 entries, 0 to 1999\n",
            "Data columns (total 21 columns):\n",
            " #   Column         Non-Null Count  Dtype  \n",
            "---  ------         --------------  -----  \n",
            " 0   battery_power  2000 non-null   int64  \n",
            " 1   blue           2000 non-null   int64  \n",
            " 2   clock_speed    2000 non-null   float64\n",
            " 3   dual_sim       2000 non-null   int64  \n",
            " 4   fc             2000 non-null   int64  \n",
            " 5   four_g         2000 non-null   int64  \n",
            " 6   int_memory     2000 non-null   int64  \n",
            " 7   m_dep          2000 non-null   float64\n",
            " 8   mobile_wt      2000 non-null   int64  \n",
            " 9   n_cores        2000 non-null   int64  \n",
            " 10  pc             2000 non-null   int64  \n",
            " 11  px_height      2000 non-null   int64  \n",
            " 12  px_width       2000 non-null   int64  \n",
            " 13  ram            2000 non-null   int64  \n",
            " 14  sc_h           2000 non-null   int64  \n",
            " 15  sc_w           2000 non-null   int64  \n",
            " 16  talk_time      2000 non-null   int64  \n",
            " 17  three_g        2000 non-null   int64  \n",
            " 18  touch_screen   2000 non-null   int64  \n",
            " 19  wifi           2000 non-null   int64  \n",
            " 20  price_range    2000 non-null   int64  \n",
            "dtypes: float64(2), int64(19)\n",
            "memory usage: 328.2 KB\n"
          ]
        }
      ]
    },
    {
      "cell_type": "code",
      "metadata": {
        "colab": {
          "base_uri": "https://localhost:8080/"
        },
        "id": "i5jQrW_uVRXp",
        "outputId": "be43e44a-5ee2-432f-a37c-e263db49cc00"
      },
      "source": [
        "#Null values sum of target variable ('price_range')\n",
        "df['price_range'].isnull().sum()"
      ],
      "execution_count": 25,
      "outputs": [
        {
          "output_type": "execute_result",
          "data": {
            "text/plain": [
              "0"
            ]
          },
          "metadata": {},
          "execution_count": 25
        }
      ]
    },
    {
      "cell_type": "code",
      "metadata": {
        "colab": {
          "base_uri": "https://localhost:8080/"
        },
        "id": "L2iwUMyRhgmI",
        "outputId": "968d13e6-7dcb-4b05-9879-347e59d620b7"
      },
      "source": [
        "#It counts the value of each class\n",
        "df['price_range'].value_counts()"
      ],
      "execution_count": 26,
      "outputs": [
        {
          "output_type": "execute_result",
          "data": {
            "text/plain": [
              "3    500\n",
              "2    500\n",
              "1    500\n",
              "0    500\n",
              "Name: price_range, dtype: int64"
            ]
          },
          "metadata": {},
          "execution_count": 26
        }
      ]
    },
    {
      "cell_type": "markdown",
      "metadata": {
        "id": "-gP2hrvMi9wn"
      },
      "source": [
        "Price_range - This is the target variable with value of 0(low cost), 1(medium cost),2(high cost) and 3(very high cost)."
      ]
    },
    {
      "cell_type": "code",
      "metadata": {
        "colab": {
          "base_uri": "https://localhost:8080/"
        },
        "id": "_SezoAJqh1aC",
        "outputId": "126d00d8-8631-4944-e365-d38042ea9b8f"
      },
      "source": [
        "df['blue'].value_counts()"
      ],
      "execution_count": 27,
      "outputs": [
        {
          "output_type": "execute_result",
          "data": {
            "text/plain": [
              "0    1010\n",
              "1     990\n",
              "Name: blue, dtype: int64"
            ]
          },
          "metadata": {},
          "execution_count": 27
        }
      ]
    },
    {
      "cell_type": "markdown",
      "metadata": {
        "id": "GpSyr3Ue0DQu"
      },
      "source": [
        "1010 mobiles have bluetooth and 990 does not have bluetooth"
      ]
    },
    {
      "cell_type": "code",
      "metadata": {
        "colab": {
          "base_uri": "https://localhost:8080/"
        },
        "id": "nvvt_Lm2jko2",
        "outputId": "5d8b357b-f186-45b0-b972-c0e00e6f15cc"
      },
      "source": [
        "df['dual_sim'].value_counts()"
      ],
      "execution_count": 28,
      "outputs": [
        {
          "output_type": "execute_result",
          "data": {
            "text/plain": [
              "1    1019\n",
              "0     981\n",
              "Name: dual_sim, dtype: int64"
            ]
          },
          "metadata": {},
          "execution_count": 28
        }
      ]
    },
    {
      "cell_type": "markdown",
      "metadata": {
        "id": "GIf1Mmj70SCF"
      },
      "source": [
        "1019 mobiles contains dual sim slot and 981 mobiles are not"
      ]
    },
    {
      "cell_type": "code",
      "metadata": {
        "colab": {
          "base_uri": "https://localhost:8080/"
        },
        "id": "mGs2xmNOkG-u",
        "outputId": "91de64d3-c0f4-4e96-8bb1-fa6a6ec2f61e"
      },
      "source": [
        "df['four_g'].value_counts()"
      ],
      "execution_count": 29,
      "outputs": [
        {
          "output_type": "execute_result",
          "data": {
            "text/plain": [
              "1    1043\n",
              "0     957\n",
              "Name: four_g, dtype: int64"
            ]
          },
          "metadata": {},
          "execution_count": 29
        }
      ]
    },
    {
      "cell_type": "markdown",
      "metadata": {
        "id": "uWGJSs1G0k5K"
      },
      "source": [
        "1043 mobiles have four_g facility and 957 are not"
      ]
    },
    {
      "cell_type": "code",
      "metadata": {
        "colab": {
          "base_uri": "https://localhost:8080/"
        },
        "id": "CgGLOHyPTx3r",
        "outputId": "aed8919e-f477-4efd-f164-2a8692724af7"
      },
      "source": [
        "df['m_dep'].value_counts()"
      ],
      "execution_count": 30,
      "outputs": [
        {
          "output_type": "execute_result",
          "data": {
            "text/plain": [
              "0.1    320\n",
              "0.2    213\n",
              "0.8    208\n",
              "0.5    205\n",
              "0.7    200\n",
              "0.3    199\n",
              "0.9    195\n",
              "0.6    186\n",
              "0.4    168\n",
              "1.0    106\n",
              "Name: m_dep, dtype: int64"
            ]
          },
          "metadata": {},
          "execution_count": 30
        }
      ]
    },
    {
      "cell_type": "markdown",
      "metadata": {
        "id": "9u_3GfyI00yS"
      },
      "source": [
        "There are 10 different mobile-depths in the dataset"
      ]
    },
    {
      "cell_type": "code",
      "metadata": {
        "colab": {
          "base_uri": "https://localhost:8080/"
        },
        "id": "3lPjsyevT9_X",
        "outputId": "7003770a-10fe-42eb-d630-3e6b30dcfec1"
      },
      "source": [
        "df['n_cores'].value_counts()"
      ],
      "execution_count": 31,
      "outputs": [
        {
          "output_type": "execute_result",
          "data": {
            "text/plain": [
              "4    274\n",
              "7    259\n",
              "8    256\n",
              "2    247\n",
              "5    246\n",
              "3    246\n",
              "1    242\n",
              "6    230\n",
              "Name: n_cores, dtype: int64"
            ]
          },
          "metadata": {},
          "execution_count": 31
        }
      ]
    },
    {
      "cell_type": "markdown",
      "metadata": {
        "id": "3cVWwgdv3u0e"
      },
      "source": [
        "Dataset contains 8 different cores "
      ]
    },
    {
      "cell_type": "code",
      "metadata": {
        "colab": {
          "base_uri": "https://localhost:8080/",
          "height": 514
        },
        "id": "TlTMu7FZloHP",
        "outputId": "cc9fc262-cd26-4c57-87b8-5140824a36e9"
      },
      "source": [
        "# Target variable 'price_range'\n",
        "plt.figure(figsize=(7,7))\n",
        "sns.distplot(df['price_range'],color=\"r\")"
      ],
      "execution_count": 32,
      "outputs": [
        {
          "output_type": "stream",
          "name": "stderr",
          "text": [
            "/usr/local/lib/python3.7/dist-packages/seaborn/distributions.py:2557: FutureWarning: `distplot` is a deprecated function and will be removed in a future version. Please adapt your code to use either `displot` (a figure-level function with similar flexibility) or `histplot` (an axes-level function for histograms).\n",
            "  warnings.warn(msg, FutureWarning)\n"
          ]
        },
        {
          "output_type": "execute_result",
          "data": {
            "text/plain": [
              "<matplotlib.axes._subplots.AxesSubplot at 0x7f609d23ea90>"
            ]
          },
          "metadata": {},
          "execution_count": 32
        },
        {
          "output_type": "display_data",
          "data": {
            "image/png": "[encoded data removed]",
            "text/plain": [
              "<Figure size 504x504 with 1 Axes>"
            ]
          },
          "metadata": {
            "needs_background": "light"
          }
        }
      ]
    },
    {
      "cell_type": "code",
      "metadata": {
        "colab": {
          "base_uri": "https://localhost:8080/",
          "height": 297
        },
        "id": "OKseB1LtIjUY",
        "outputId": "233811b3-5086-4671-fff9-21d501142b71"
      },
      "source": [
        "#Countplot for price_range\n",
        "sns.countplot(data = df , x = 'price_range')"
      ],
      "execution_count": 33,
      "outputs": [
        {
          "output_type": "execute_result",
          "data": {
            "text/plain": [
              "<matplotlib.axes._subplots.AxesSubplot at 0x7f609c6b5950>"
            ]
          },
          "metadata": {},
          "execution_count": 33
        },
        {
          "output_type": "display_data",
          "data": {
            "image/png": "[encoded data removed]",
            "text/plain": [
              "<Figure size 432x288 with 1 Axes>"
            ]
          },
          "metadata": {
            "needs_background": "light"
          }
        }
      ]
    },
    {
      "cell_type": "markdown",
      "metadata": {
        "id": "VP-62XGb6_dv"
      },
      "source": [
        "#**Exploratory Data Analysis**"
      ]
    },
    {
      "cell_type": "code",
      "metadata": {
        "colab": {
          "base_uri": "https://localhost:8080/",
          "height": 297
        },
        "id": "27-ldf6ddVSM",
        "outputId": "4ba74070-6ab4-424a-fb8c-e36f2da9c16a"
      },
      "source": [
        "#Boxplot between ram and price_range\n",
        "sns.boxplot(y = 'ram' , x = 'price_range',data= df)"
      ],
      "execution_count": 34,
      "outputs": [
        {
          "output_type": "execute_result",
          "data": {
            "text/plain": [
              "<matplotlib.axes._subplots.AxesSubplot at 0x7f609c1c61d0>"
            ]
          },
          "metadata": {},
          "execution_count": 34
        },
        {
          "output_type": "display_data",
          "data": {
            "image/png": "[encoded data removed]",
            "text/plain": [
              "<Figure size 432x288 with 1 Axes>"
            ]
          },
          "metadata": {
            "needs_background": "light"
          }
        }
      ]
    },
    {
      "cell_type": "code",
      "metadata": {
        "colab": {
          "base_uri": "https://localhost:8080/",
          "height": 297
        },
        "id": "oTw8MnZbhe09",
        "outputId": "aba42685-7f2a-4119-d12d-4809eed8a806"
      },
      "source": [
        "#Pointplot between battery_power and price_range\n",
        "sns.pointplot(y= 'battery_power', x = 'price_range', data=df)"
      ],
      "execution_count": 35,
      "outputs": [
        {
          "output_type": "execute_result",
          "data": {
            "text/plain": [
              "<matplotlib.axes._subplots.AxesSubplot at 0x7f609c11b650>"
            ]
          },
          "metadata": {},
          "execution_count": 35
        },
        {
          "output_type": "display_data",
          "data": {
            "image/png": "[encoded data removed]",
            "text/plain": [
              "<Figure size 432x288 with 1 Axes>"
            ]
          },
          "metadata": {
            "needs_background": "light"
          }
        }
      ]
    },
    {
      "cell_type": "code",
      "metadata": {
        "colab": {
          "base_uri": "https://localhost:8080/",
          "height": 248
        },
        "id": "zq7RbBOs-MW6",
        "outputId": "43551118-eec9-4644-f843-b8e6003d9e22"
      },
      "source": [
        "#Percentage of phones which support 3g\n",
        "labels = [\"3G-supported\",'Not supported']\n",
        "values=df['three_g'].value_counts().values\n",
        "fig1, ax1 = plt.subplots()\n",
        "ax1.pie(values, labels=labels, autopct='%1.1f%%',shadow=True,startangle=90)\n",
        "plt.show()"
      ],
      "execution_count": 36,
      "outputs": [
        {
          "output_type": "display_data",
          "data": {
            "image/png": "[encoded data removed]",
            "text/plain": [
              "<Figure size 432x288 with 1 Axes>"
            ]
          },
          "metadata": {}
        }
      ]
    },
    {
      "cell_type": "code",
      "metadata": {
        "colab": {
          "base_uri": "https://localhost:8080/",
          "height": 248
        },
        "id": "Zoo_pCrE-rUm",
        "outputId": "2a2ad8b1-5735-4dea-a941-09d841039e9e"
      },
      "source": [
        "#Percentage of phones which support 4g\n",
        "labels = [\"4G-supported\",'Not supported']\n",
        "values=df['four_g'].value_counts().values\n",
        "fig1, ax1 = plt.subplots()\n",
        "ax1.pie(values, labels=labels, autopct='%1.1f%%',shadow=True,startangle=90)\n",
        "plt.show()"
      ],
      "execution_count": 37,
      "outputs": [
        {
          "output_type": "display_data",
          "data": {
            "image/png": "[encoded data removed]",
            "text/plain": [
              "<Figure size 432x288 with 1 Axes>"
            ]
          },
          "metadata": {}
        }
      ]
    },
    {
      "cell_type": "code",
      "metadata": {
        "colab": {
          "base_uri": "https://localhost:8080/",
          "height": 405
        },
        "id": "OsfdMCzF_USY",
        "outputId": "422b6460-8dce-492a-8d57-4c20086524cd"
      },
      "source": [
        "#Histogram of front and primary camera\n",
        "plt.figure(figsize=(10,6))\n",
        "df['fc'].hist(alpha=0.5,color='black',label='Front camera')\n",
        "df['pc'].hist(alpha=0.5,color='blue',label='Primary camera')\n",
        "plt.legend()\n",
        "plt.xlabel('MegaPixels')"
      ],
      "execution_count": 38,
      "outputs": [
        {
          "output_type": "execute_result",
          "data": {
            "text/plain": [
              "Text(0.5, 0, 'MegaPixels')"
            ]
          },
          "metadata": {},
          "execution_count": 38
        },
        {
          "output_type": "display_data",
          "data": {
            "image/png": "[encoded data removed]",
            "text/plain": [
              "<Figure size 720x432 with 1 Axes>"
            ]
          },
          "metadata": {
            "needs_background": "light"
          }
        }
      ]
    },
    {
      "cell_type": "code",
      "metadata": {
        "id": "FlQsn--8k5qA",
        "colab": {
          "base_uri": "https://localhost:8080/",
          "height": 297
        },
        "outputId": "71183b83-d079-4538-8168-af7454580b79"
      },
      "source": [
        "#Pointplot of clock_speed and price_range\n",
        "sns.pointplot(y='clock_speed',x='price_range',data = df)"
      ],
      "execution_count": 39,
      "outputs": [
        {
          "output_type": "execute_result",
          "data": {
            "text/plain": [
              "<matplotlib.axes._subplots.AxesSubplot at 0x7f609bf73a90>"
            ]
          },
          "metadata": {},
          "execution_count": 39
        },
        {
          "output_type": "display_data",
          "data": {
            "image/png": "[encoded data removed]",
            "text/plain": [
              "<Figure size 432x288 with 1 Axes>"
            ]
          },
          "metadata": {
            "needs_background": "light"
          }
        }
      ]
    },
    {
      "cell_type": "code",
      "metadata": {
        "colab": {
          "base_uri": "https://localhost:8080/",
          "height": 297
        },
        "id": "9lpsGq63_2w-",
        "outputId": "bfad5b67-0c93-4641-d82e-95ea51169709"
      },
      "source": [
        "#Pointplot between mobile_wt and price_Range\n",
        "sns.pointplot(x='price_range',y='mobile_wt',data=df)"
      ],
      "execution_count": 40,
      "outputs": [
        {
          "output_type": "execute_result",
          "data": {
            "text/plain": [
              "<matplotlib.axes._subplots.AxesSubplot at 0x7f609be442d0>"
            ]
          },
          "metadata": {},
          "execution_count": 40
        },
        {
          "output_type": "display_data",
          "data": {
            "image/png": "[encoded data removed]",
            "text/plain": [
              "<Figure size 432x288 with 1 Axes>"
            ]
          },
          "metadata": {
            "needs_background": "light"
          }
        }
      ]
    },
    {
      "cell_type": "code",
      "metadata": {
        "colab": {
          "base_uri": "https://localhost:8080/",
          "height": 297
        },
        "id": "jpv-fv2fAhGl",
        "outputId": "1de8806e-8966-4225-be4a-b9a0bb0a4c6f"
      },
      "source": [
        "#Pointplot of touch_screen and price_range\n",
        "sns.pointplot(x='price_range',y='touch_screen',data=df)"
      ],
      "execution_count": 41,
      "outputs": [
        {
          "output_type": "execute_result",
          "data": {
            "text/plain": [
              "<matplotlib.axes._subplots.AxesSubplot at 0x7f609be266d0>"
            ]
          },
          "metadata": {},
          "execution_count": 41
        },
        {
          "output_type": "display_data",
          "data": {
            "image/png": "[encoded data removed]",
            "text/plain": [
              "<Figure size 432x288 with 1 Axes>"
            ]
          },
          "metadata": {
            "needs_background": "light"
          }
        }
      ]
    },
    {
      "cell_type": "markdown",
      "metadata": {
        "id": "70Hx1umU1eA4"
      },
      "source": [
        "##Correlation"
      ]
    },
    {
      "cell_type": "code",
      "metadata": {
        "id": "eMRBQhhbbQGq"
      },
      "source": [
        "pd.set_option('display.max_columns', 200)\n",
        "pd.set_option('display.max_rows', 200)"
      ],
      "execution_count": 42,
      "outputs": []
    },
    {
      "cell_type": "code",
      "metadata": {
        "colab": {
          "base_uri": "https://localhost:8080/",
          "height": 720
        },
        "id": "jiwBxBFnfIy-",
        "outputId": "785bc2c3-dda7-4ebd-e2a9-c86802aea80f"
      },
      "source": [
        "df.corr()"
      ],
      "execution_count": 43,
      "outputs": [
        {
          "output_type": "execute_result",
          "data": {
            "text/html": [
              "<div>\n",
              "<style scoped>\n",
              "    .dataframe tbody tr th:only-of-type {\n",
              "        vertical-align: middle;\n",
              "    }\n",
              "\n",
              "    .dataframe tbody tr th {\n",
              "        vertical-align: top;\n",
              "    }\n",
              "\n",
              "    .dataframe thead th {\n",
              "        text-align: right;\n",
              "    }\n",
              "</style>\n",
              "<table border=\"1\" class=\"dataframe\">\n",
              "  <thead>\n",
              "    <tr style=\"text-align: right;\">\n",
              "      <th></th>\n",
              "      <th>battery_power</th>\n",
              "      <th>blue</th>\n",
              "      <th>clock_speed</th>\n",
              "      <th>dual_sim</th>\n",
              "      <th>fc</th>\n",
              "      <th>four_g</th>\n",
              "      <th>int_memory</th>\n",
              "      <th>m_dep</th>\n",
              "      <th>mobile_wt</th>\n",
              "      <th>n_cores</th>\n",
              "      <th>pc</th>\n",
              "      <th>px_height</th>\n",
              "      <th>px_width</th>\n",
              "      <th>ram</th>\n",
              "      <th>sc_h</th>\n",
              "      <th>sc_w</th>\n",
              "      <th>talk_time</th>\n",
              "      <th>three_g</th>\n",
              "      <th>touch_screen</th>\n",
              "      <th>wifi</th>\n",
              "      <th>price_range</th>\n",
              "    </tr>\n",
              "  </thead>\n",
              "  <tbody>\n",
              "    <tr>\n",
              "      <th>battery_power</th>\n",
              "      <td>1.000000</td>\n",
              "      <td>0.011252</td>\n",
              "      <td>0.011482</td>\n",
              "      <td>-0.041847</td>\n",
              "      <td>0.033334</td>\n",
              "      <td>0.015665</td>\n",
              "      <td>-0.004004</td>\n",
              "      <td>0.034085</td>\n",
              "      <td>0.001844</td>\n",
              "      <td>-0.029727</td>\n",
              "      <td>0.031441</td>\n",
              "      <td>0.014901</td>\n",
              "      <td>-0.008402</td>\n",
              "      <td>-0.000653</td>\n",
              "      <td>-0.029959</td>\n",
              "      <td>-0.021421</td>\n",
              "      <td>0.052510</td>\n",
              "      <td>0.011522</td>\n",
              "      <td>-0.010516</td>\n",
              "      <td>-0.008343</td>\n",
              "      <td>0.200723</td>\n",
              "    </tr>\n",
              "    <tr>\n",
              "      <th>blue</th>\n",
              "      <td>0.011252</td>\n",
              "      <td>1.000000</td>\n",
              "      <td>0.021419</td>\n",
              "      <td>0.035198</td>\n",
              "      <td>0.003593</td>\n",
              "      <td>0.013443</td>\n",
              "      <td>0.041177</td>\n",
              "      <td>0.004049</td>\n",
              "      <td>-0.008605</td>\n",
              "      <td>0.036161</td>\n",
              "      <td>-0.009952</td>\n",
              "      <td>-0.006872</td>\n",
              "      <td>-0.041533</td>\n",
              "      <td>0.026351</td>\n",
              "      <td>-0.002952</td>\n",
              "      <td>0.000613</td>\n",
              "      <td>0.013934</td>\n",
              "      <td>-0.030236</td>\n",
              "      <td>0.010061</td>\n",
              "      <td>-0.021863</td>\n",
              "      <td>0.020573</td>\n",
              "    </tr>\n",
              "    <tr>\n",
              "      <th>clock_speed</th>\n",
              "      <td>0.011482</td>\n",
              "      <td>0.021419</td>\n",
              "      <td>1.000000</td>\n",
              "      <td>-0.001315</td>\n",
              "      <td>-0.000434</td>\n",
              "      <td>-0.043073</td>\n",
              "      <td>0.006545</td>\n",
              "      <td>-0.014364</td>\n",
              "      <td>0.012350</td>\n",
              "      <td>-0.005724</td>\n",
              "      <td>-0.005245</td>\n",
              "      <td>-0.014523</td>\n",
              "      <td>-0.009476</td>\n",
              "      <td>0.003443</td>\n",
              "      <td>-0.029078</td>\n",
              "      <td>-0.007378</td>\n",
              "      <td>-0.011432</td>\n",
              "      <td>-0.046433</td>\n",
              "      <td>0.019756</td>\n",
              "      <td>-0.024471</td>\n",
              "      <td>-0.006606</td>\n",
              "    </tr>\n",
              "    <tr>\n",
              "      <th>dual_sim</th>\n",
              "      <td>-0.041847</td>\n",
              "      <td>0.035198</td>\n",
              "      <td>-0.001315</td>\n",
              "      <td>1.000000</td>\n",
              "      <td>-0.029123</td>\n",
              "      <td>0.003187</td>\n",
              "      <td>-0.015679</td>\n",
              "      <td>-0.022142</td>\n",
              "      <td>-0.008979</td>\n",
              "      <td>-0.024658</td>\n",
              "      <td>-0.017143</td>\n",
              "      <td>-0.020875</td>\n",
              "      <td>0.014291</td>\n",
              "      <td>0.041072</td>\n",
              "      <td>-0.011949</td>\n",
              "      <td>-0.016666</td>\n",
              "      <td>-0.039404</td>\n",
              "      <td>-0.014008</td>\n",
              "      <td>-0.017117</td>\n",
              "      <td>0.022740</td>\n",
              "      <td>0.017444</td>\n",
              "    </tr>\n",
              "    <tr>\n",
              "      <th>fc</th>\n",
              "      <td>0.033334</td>\n",
              "      <td>0.003593</td>\n",
              "      <td>-0.000434</td>\n",
              "      <td>-0.029123</td>\n",
              "      <td>1.000000</td>\n",
              "      <td>-0.016560</td>\n",
              "      <td>-0.029133</td>\n",
              "      <td>-0.001791</td>\n",
              "      <td>0.023618</td>\n",
              "      <td>-0.013356</td>\n",
              "      <td>0.644595</td>\n",
              "      <td>-0.009990</td>\n",
              "      <td>-0.005176</td>\n",
              "      <td>0.015099</td>\n",
              "      <td>-0.011014</td>\n",
              "      <td>-0.012373</td>\n",
              "      <td>-0.006829</td>\n",
              "      <td>0.001793</td>\n",
              "      <td>-0.014828</td>\n",
              "      <td>0.020085</td>\n",
              "      <td>0.021998</td>\n",
              "    </tr>\n",
              "    <tr>\n",
              "      <th>four_g</th>\n",
              "      <td>0.015665</td>\n",
              "      <td>0.013443</td>\n",
              "      <td>-0.043073</td>\n",
              "      <td>0.003187</td>\n",
              "      <td>-0.016560</td>\n",
              "      <td>1.000000</td>\n",
              "      <td>0.008690</td>\n",
              "      <td>-0.001823</td>\n",
              "      <td>-0.016537</td>\n",
              "      <td>-0.029706</td>\n",
              "      <td>-0.005598</td>\n",
              "      <td>-0.019236</td>\n",
              "      <td>0.007448</td>\n",
              "      <td>0.007313</td>\n",
              "      <td>0.027166</td>\n",
              "      <td>0.037005</td>\n",
              "      <td>-0.046628</td>\n",
              "      <td>0.584246</td>\n",
              "      <td>0.016758</td>\n",
              "      <td>-0.017620</td>\n",
              "      <td>0.014772</td>\n",
              "    </tr>\n",
              "    <tr>\n",
              "      <th>int_memory</th>\n",
              "      <td>-0.004004</td>\n",
              "      <td>0.041177</td>\n",
              "      <td>0.006545</td>\n",
              "      <td>-0.015679</td>\n",
              "      <td>-0.029133</td>\n",
              "      <td>0.008690</td>\n",
              "      <td>1.000000</td>\n",
              "      <td>0.006886</td>\n",
              "      <td>-0.034214</td>\n",
              "      <td>-0.028310</td>\n",
              "      <td>-0.033273</td>\n",
              "      <td>0.010441</td>\n",
              "      <td>-0.008335</td>\n",
              "      <td>0.032813</td>\n",
              "      <td>0.037771</td>\n",
              "      <td>0.011731</td>\n",
              "      <td>-0.002790</td>\n",
              "      <td>-0.009366</td>\n",
              "      <td>-0.026999</td>\n",
              "      <td>0.006993</td>\n",
              "      <td>0.044435</td>\n",
              "    </tr>\n",
              "    <tr>\n",
              "      <th>m_dep</th>\n",
              "      <td>0.034085</td>\n",
              "      <td>0.004049</td>\n",
              "      <td>-0.014364</td>\n",
              "      <td>-0.022142</td>\n",
              "      <td>-0.001791</td>\n",
              "      <td>-0.001823</td>\n",
              "      <td>0.006886</td>\n",
              "      <td>1.000000</td>\n",
              "      <td>0.021756</td>\n",
              "      <td>-0.003504</td>\n",
              "      <td>0.026282</td>\n",
              "      <td>0.025263</td>\n",
              "      <td>0.023566</td>\n",
              "      <td>-0.009434</td>\n",
              "      <td>-0.025348</td>\n",
              "      <td>-0.018388</td>\n",
              "      <td>0.017003</td>\n",
              "      <td>-0.012065</td>\n",
              "      <td>-0.002638</td>\n",
              "      <td>-0.028353</td>\n",
              "      <td>0.000853</td>\n",
              "    </tr>\n",
              "    <tr>\n",
              "      <th>mobile_wt</th>\n",
              "      <td>0.001844</td>\n",
              "      <td>-0.008605</td>\n",
              "      <td>0.012350</td>\n",
              "      <td>-0.008979</td>\n",
              "      <td>0.023618</td>\n",
              "      <td>-0.016537</td>\n",
              "      <td>-0.034214</td>\n",
              "      <td>0.021756</td>\n",
              "      <td>1.000000</td>\n",
              "      <td>-0.018989</td>\n",
              "      <td>0.018844</td>\n",
              "      <td>0.000939</td>\n",
              "      <td>0.000090</td>\n",
              "      <td>-0.002581</td>\n",
              "      <td>-0.033855</td>\n",
              "      <td>-0.020761</td>\n",
              "      <td>0.006209</td>\n",
              "      <td>0.001551</td>\n",
              "      <td>-0.014368</td>\n",
              "      <td>-0.000409</td>\n",
              "      <td>-0.030302</td>\n",
              "    </tr>\n",
              "    <tr>\n",
              "      <th>n_cores</th>\n",
              "      <td>-0.029727</td>\n",
              "      <td>0.036161</td>\n",
              "      <td>-0.005724</td>\n",
              "      <td>-0.024658</td>\n",
              "      <td>-0.013356</td>\n",
              "      <td>-0.029706</td>\n",
              "      <td>-0.028310</td>\n",
              "      <td>-0.003504</td>\n",
              "      <td>-0.018989</td>\n",
              "      <td>1.000000</td>\n",
              "      <td>-0.001193</td>\n",
              "      <td>-0.006872</td>\n",
              "      <td>0.024480</td>\n",
              "      <td>0.004868</td>\n",
              "      <td>-0.000315</td>\n",
              "      <td>0.025826</td>\n",
              "      <td>0.013148</td>\n",
              "      <td>-0.014733</td>\n",
              "      <td>0.023774</td>\n",
              "      <td>-0.009964</td>\n",
              "      <td>0.004399</td>\n",
              "    </tr>\n",
              "    <tr>\n",
              "      <th>pc</th>\n",
              "      <td>0.031441</td>\n",
              "      <td>-0.009952</td>\n",
              "      <td>-0.005245</td>\n",
              "      <td>-0.017143</td>\n",
              "      <td>0.644595</td>\n",
              "      <td>-0.005598</td>\n",
              "      <td>-0.033273</td>\n",
              "      <td>0.026282</td>\n",
              "      <td>0.018844</td>\n",
              "      <td>-0.001193</td>\n",
              "      <td>1.000000</td>\n",
              "      <td>-0.018465</td>\n",
              "      <td>0.004196</td>\n",
              "      <td>0.028984</td>\n",
              "      <td>0.004938</td>\n",
              "      <td>-0.023819</td>\n",
              "      <td>0.014657</td>\n",
              "      <td>-0.001322</td>\n",
              "      <td>-0.008742</td>\n",
              "      <td>0.005389</td>\n",
              "      <td>0.033599</td>\n",
              "    </tr>\n",
              "    <tr>\n",
              "      <th>px_height</th>\n",
              "      <td>0.014901</td>\n",
              "      <td>-0.006872</td>\n",
              "      <td>-0.014523</td>\n",
              "      <td>-0.020875</td>\n",
              "      <td>-0.009990</td>\n",
              "      <td>-0.019236</td>\n",
              "      <td>0.010441</td>\n",
              "      <td>0.025263</td>\n",
              "      <td>0.000939</td>\n",
              "      <td>-0.006872</td>\n",
              "      <td>-0.018465</td>\n",
              "      <td>1.000000</td>\n",
              "      <td>0.510664</td>\n",
              "      <td>-0.020352</td>\n",
              "      <td>0.059615</td>\n",
              "      <td>0.043038</td>\n",
              "      <td>-0.010645</td>\n",
              "      <td>-0.031174</td>\n",
              "      <td>0.021891</td>\n",
              "      <td>0.051824</td>\n",
              "      <td>0.148858</td>\n",
              "    </tr>\n",
              "    <tr>\n",
              "      <th>px_width</th>\n",
              "      <td>-0.008402</td>\n",
              "      <td>-0.041533</td>\n",
              "      <td>-0.009476</td>\n",
              "      <td>0.014291</td>\n",
              "      <td>-0.005176</td>\n",
              "      <td>0.007448</td>\n",
              "      <td>-0.008335</td>\n",
              "      <td>0.023566</td>\n",
              "      <td>0.000090</td>\n",
              "      <td>0.024480</td>\n",
              "      <td>0.004196</td>\n",
              "      <td>0.510664</td>\n",
              "      <td>1.000000</td>\n",
              "      <td>0.004105</td>\n",
              "      <td>0.021599</td>\n",
              "      <td>0.034699</td>\n",
              "      <td>0.006720</td>\n",
              "      <td>0.000350</td>\n",
              "      <td>-0.001628</td>\n",
              "      <td>0.030319</td>\n",
              "      <td>0.165818</td>\n",
              "    </tr>\n",
              "    <tr>\n",
              "      <th>ram</th>\n",
              "      <td>-0.000653</td>\n",
              "      <td>0.026351</td>\n",
              "      <td>0.003443</td>\n",
              "      <td>0.041072</td>\n",
              "      <td>0.015099</td>\n",
              "      <td>0.007313</td>\n",
              "      <td>0.032813</td>\n",
              "      <td>-0.009434</td>\n",
              "      <td>-0.002581</td>\n",
              "      <td>0.004868</td>\n",
              "      <td>0.028984</td>\n",
              "      <td>-0.020352</td>\n",
              "      <td>0.004105</td>\n",
              "      <td>1.000000</td>\n",
              "      <td>0.015996</td>\n",
              "      <td>0.035576</td>\n",
              "      <td>0.010820</td>\n",
              "      <td>0.015795</td>\n",
              "      <td>-0.030455</td>\n",
              "      <td>0.022669</td>\n",
              "      <td>0.917046</td>\n",
              "    </tr>\n",
              "    <tr>\n",
              "      <th>sc_h</th>\n",
              "      <td>-0.029959</td>\n",
              "      <td>-0.002952</td>\n",
              "      <td>-0.029078</td>\n",
              "      <td>-0.011949</td>\n",
              "      <td>-0.011014</td>\n",
              "      <td>0.027166</td>\n",
              "      <td>0.037771</td>\n",
              "      <td>-0.025348</td>\n",
              "      <td>-0.033855</td>\n",
              "      <td>-0.000315</td>\n",
              "      <td>0.004938</td>\n",
              "      <td>0.059615</td>\n",
              "      <td>0.021599</td>\n",
              "      <td>0.015996</td>\n",
              "      <td>1.000000</td>\n",
              "      <td>0.506144</td>\n",
              "      <td>-0.017335</td>\n",
              "      <td>0.012033</td>\n",
              "      <td>-0.020023</td>\n",
              "      <td>0.025929</td>\n",
              "      <td>0.022986</td>\n",
              "    </tr>\n",
              "    <tr>\n",
              "      <th>sc_w</th>\n",
              "      <td>-0.021421</td>\n",
              "      <td>0.000613</td>\n",
              "      <td>-0.007378</td>\n",
              "      <td>-0.016666</td>\n",
              "      <td>-0.012373</td>\n",
              "      <td>0.037005</td>\n",
              "      <td>0.011731</td>\n",
              "      <td>-0.018388</td>\n",
              "      <td>-0.020761</td>\n",
              "      <td>0.025826</td>\n",
              "      <td>-0.023819</td>\n",
              "      <td>0.043038</td>\n",
              "      <td>0.034699</td>\n",
              "      <td>0.035576</td>\n",
              "      <td>0.506144</td>\n",
              "      <td>1.000000</td>\n",
              "      <td>-0.022821</td>\n",
              "      <td>0.030941</td>\n",
              "      <td>0.012720</td>\n",
              "      <td>0.035423</td>\n",
              "      <td>0.038711</td>\n",
              "    </tr>\n",
              "    <tr>\n",
              "      <th>talk_time</th>\n",
              "      <td>0.052510</td>\n",
              "      <td>0.013934</td>\n",
              "      <td>-0.011432</td>\n",
              "      <td>-0.039404</td>\n",
              "      <td>-0.006829</td>\n",
              "      <td>-0.046628</td>\n",
              "      <td>-0.002790</td>\n",
              "      <td>0.017003</td>\n",
              "      <td>0.006209</td>\n",
              "      <td>0.013148</td>\n",
              "      <td>0.014657</td>\n",
              "      <td>-0.010645</td>\n",
              "      <td>0.006720</td>\n",
              "      <td>0.010820</td>\n",
              "      <td>-0.017335</td>\n",
              "      <td>-0.022821</td>\n",
              "      <td>1.000000</td>\n",
              "      <td>-0.042688</td>\n",
              "      <td>0.017196</td>\n",
              "      <td>-0.029504</td>\n",
              "      <td>0.021859</td>\n",
              "    </tr>\n",
              "    <tr>\n",
              "      <th>three_g</th>\n",
              "      <td>0.011522</td>\n",
              "      <td>-0.030236</td>\n",
              "      <td>-0.046433</td>\n",
              "      <td>-0.014008</td>\n",
              "      <td>0.001793</td>\n",
              "      <td>0.584246</td>\n",
              "      <td>-0.009366</td>\n",
              "      <td>-0.012065</td>\n",
              "      <td>0.001551</td>\n",
              "      <td>-0.014733</td>\n",
              "      <td>-0.001322</td>\n",
              "      <td>-0.031174</td>\n",
              "      <td>0.000350</td>\n",
              "      <td>0.015795</td>\n",
              "      <td>0.012033</td>\n",
              "      <td>0.030941</td>\n",
              "      <td>-0.042688</td>\n",
              "      <td>1.000000</td>\n",
              "      <td>0.013917</td>\n",
              "      <td>0.004316</td>\n",
              "      <td>0.023611</td>\n",
              "    </tr>\n",
              "    <tr>\n",
              "      <th>touch_screen</th>\n",
              "      <td>-0.010516</td>\n",
              "      <td>0.010061</td>\n",
              "      <td>0.019756</td>\n",
              "      <td>-0.017117</td>\n",
              "      <td>-0.014828</td>\n",
              "      <td>0.016758</td>\n",
              "      <td>-0.026999</td>\n",
              "      <td>-0.002638</td>\n",
              "      <td>-0.014368</td>\n",
              "      <td>0.023774</td>\n",
              "      <td>-0.008742</td>\n",
              "      <td>0.021891</td>\n",
              "      <td>-0.001628</td>\n",
              "      <td>-0.030455</td>\n",
              "      <td>-0.020023</td>\n",
              "      <td>0.012720</td>\n",
              "      <td>0.017196</td>\n",
              "      <td>0.013917</td>\n",
              "      <td>1.000000</td>\n",
              "      <td>0.011917</td>\n",
              "      <td>-0.030411</td>\n",
              "    </tr>\n",
              "    <tr>\n",
              "      <th>wifi</th>\n",
              "      <td>-0.008343</td>\n",
              "      <td>-0.021863</td>\n",
              "      <td>-0.024471</td>\n",
              "      <td>0.022740</td>\n",
              "      <td>0.020085</td>\n",
              "      <td>-0.017620</td>\n",
              "      <td>0.006993</td>\n",
              "      <td>-0.028353</td>\n",
              "      <td>-0.000409</td>\n",
              "      <td>-0.009964</td>\n",
              "      <td>0.005389</td>\n",
              "      <td>0.051824</td>\n",
              "      <td>0.030319</td>\n",
              "      <td>0.022669</td>\n",
              "      <td>0.025929</td>\n",
              "      <td>0.035423</td>\n",
              "      <td>-0.029504</td>\n",
              "      <td>0.004316</td>\n",
              "      <td>0.011917</td>\n",
              "      <td>1.000000</td>\n",
              "      <td>0.018785</td>\n",
              "    </tr>\n",
              "    <tr>\n",
              "      <th>price_range</th>\n",
              "      <td>0.200723</td>\n",
              "      <td>0.020573</td>\n",
              "      <td>-0.006606</td>\n",
              "      <td>0.017444</td>\n",
              "      <td>0.021998</td>\n",
              "      <td>0.014772</td>\n",
              "      <td>0.044435</td>\n",
              "      <td>0.000853</td>\n",
              "      <td>-0.030302</td>\n",
              "      <td>0.004399</td>\n",
              "      <td>0.033599</td>\n",
              "      <td>0.148858</td>\n",
              "      <td>0.165818</td>\n",
              "      <td>0.917046</td>\n",
              "      <td>0.022986</td>\n",
              "      <td>0.038711</td>\n",
              "      <td>0.021859</td>\n",
              "      <td>0.023611</td>\n",
              "      <td>-0.030411</td>\n",
              "      <td>0.018785</td>\n",
              "      <td>1.000000</td>\n",
              "    </tr>\n",
              "  </tbody>\n",
              "</table>\n",
              "</div>"
            ],
            "text/plain": [
              "               battery_power      blue  clock_speed  dual_sim        fc  \\\n",
              "battery_power       1.000000  0.011252     0.011482 -0.041847  0.033334   \n",
              "blue                0.011252  1.000000     0.021419  0.035198  0.003593   \n",
              "clock_speed         0.011482  0.021419     1.000000 -0.001315 -0.000434   \n",
              "dual_sim           -0.041847  0.035198    -0.001315  1.000000 -0.029123   \n",
              "fc                  0.033334  0.003593    -0.000434 -0.029123  1.000000   \n",
              "four_g              0.015665  0.013443    -0.043073  0.003187 -0.016560   \n",
              "int_memory         -0.004004  0.041177     0.006545 -0.015679 -0.029133   \n",
              "m_dep               0.034085  0.004049    -0.014364 -0.022142 -0.001791   \n",
              "mobile_wt           0.001844 -0.008605     0.012350 -0.008979  0.023618   \n",
              "n_cores            -0.029727  0.036161    -0.005724 -0.024658 -0.013356   \n",
              "pc                  0.031441 -0.009952    -0.005245 -0.017143  0.644595   \n",
              "px_height           0.014901 -0.006872    -0.014523 -0.020875 -0.009990   \n",
              "px_width           -0.008402 -0.041533    -0.009476  0.014291 -0.005176   \n",
              "ram                -0.000653  0.026351     0.003443  0.041072  0.015099   \n",
              "sc_h               -0.029959 -0.002952    -0.029078 -0.011949 -0.011014   \n",
              "sc_w               -0.021421  0.000613    -0.007378 -0.016666 -0.012373   \n",
              "talk_time           0.052510  0.013934    -0.011432 -0.039404 -0.006829   \n",
              "three_g             0.011522 -0.030236    -0.046433 -0.014008  0.001793   \n",
              "touch_screen       -0.010516  0.010061     0.019756 -0.017117 -0.014828   \n",
              "wifi               -0.008343 -0.021863    -0.024471  0.022740  0.020085   \n",
              "price_range         0.200723  0.020573    -0.006606  0.017444  0.021998   \n",
              "\n",
              "                 four_g  int_memory     m_dep  mobile_wt   n_cores        pc  \\\n",
              "battery_power  0.015665   -0.004004  0.034085   0.001844 -0.029727  0.031441   \n",
              "blue           0.013443    0.041177  0.004049  -0.008605  0.036161 -0.009952   \n",
              "clock_speed   -0.043073    0.006545 -0.014364   0.012350 -0.005724 -0.005245   \n",
              "dual_sim       0.003187   -0.015679 -0.022142  -0.008979 -0.024658 -0.017143   \n",
              "fc            -0.016560   -0.029133 -0.001791   0.023618 -0.013356  0.644595   \n",
              "four_g         1.000000    0.008690 -0.001823  -0.016537 -0.029706 -0.005598   \n",
              "int_memory     0.008690    1.000000  0.006886  -0.034214 -0.028310 -0.033273   \n",
              "m_dep         -0.001823    0.006886  1.000000   0.021756 -0.003504  0.026282   \n",
              "mobile_wt     -0.016537   -0.034214  0.021756   1.000000 -0.018989  0.018844   \n",
              "n_cores       -0.029706   -0.028310 -0.003504  -0.018989  1.000000 -0.001193   \n",
              "pc            -0.005598   -0.033273  0.026282   0.018844 -0.001193  1.000000   \n",
              "px_height     -0.019236    0.010441  0.025263   0.000939 -0.006872 -0.018465   \n",
              "px_width       0.007448   -0.008335  0.023566   0.000090  0.024480  0.004196   \n",
              "ram            0.007313    0.032813 -0.009434  -0.002581  0.004868  0.028984   \n",
              "sc_h           0.027166    0.037771 -0.025348  -0.033855 -0.000315  0.004938   \n",
              "sc_w           0.037005    0.011731 -0.018388  -0.020761  0.025826 -0.023819   \n",
              "talk_time     -0.046628   -0.002790  0.017003   0.006209  0.013148  0.014657   \n",
              "three_g        0.584246   -0.009366 -0.012065   0.001551 -0.014733 -0.001322   \n",
              "touch_screen   0.016758   -0.026999 -0.002638  -0.014368  0.023774 -0.008742   \n",
              "wifi          -0.017620    0.006993 -0.028353  -0.000409 -0.009964  0.005389   \n",
              "price_range    0.014772    0.044435  0.000853  -0.030302  0.004399  0.033599   \n",
              "\n",
              "               px_height  px_width       ram      sc_h      sc_w  talk_time  \\\n",
              "battery_power   0.014901 -0.008402 -0.000653 -0.029959 -0.021421   0.052510   \n",
              "blue           -0.006872 -0.041533  0.026351 -0.002952  0.000613   0.013934   \n",
              "clock_speed    -0.014523 -0.009476  0.003443 -0.029078 -0.007378  -0.011432   \n",
              "dual_sim       -0.020875  0.014291  0.041072 -0.011949 -0.016666  -0.039404   \n",
              "fc             -0.009990 -0.005176  0.015099 -0.011014 -0.012373  -0.006829   \n",
              "four_g         -0.019236  0.007448  0.007313  0.027166  0.037005  -0.046628   \n",
              "int_memory      0.010441 -0.008335  0.032813  0.037771  0.011731  -0.002790   \n",
              "m_dep           0.025263  0.023566 -0.009434 -0.025348 -0.018388   0.017003   \n",
              "mobile_wt       0.000939  0.000090 -0.002581 -0.033855 -0.020761   0.006209   \n",
              "n_cores        -0.006872  0.024480  0.004868 -0.000315  0.025826   0.013148   \n",
              "pc             -0.018465  0.004196  0.028984  0.004938 -0.023819   0.014657   \n",
              "px_height       1.000000  0.510664 -0.020352  0.059615  0.043038  -0.010645   \n",
              "px_width        0.510664  1.000000  0.004105  0.021599  0.034699   0.006720   \n",
              "ram            -0.020352  0.004105  1.000000  0.015996  0.035576   0.010820   \n",
              "sc_h            0.059615  0.021599  0.015996  1.000000  0.506144  -0.017335   \n",
              "sc_w            0.043038  0.034699  0.035576  0.506144  1.000000  -0.022821   \n",
              "talk_time      -0.010645  0.006720  0.010820 -0.017335 -0.022821   1.000000   \n",
              "three_g        -0.031174  0.000350  0.015795  0.012033  0.030941  -0.042688   \n",
              "touch_screen    0.021891 -0.001628 -0.030455 -0.020023  0.012720   0.017196   \n",
              "wifi            0.051824  0.030319  0.022669  0.025929  0.035423  -0.029504   \n",
              "price_range     0.148858  0.165818  0.917046  0.022986  0.038711   0.021859   \n",
              "\n",
              "                three_g  touch_screen      wifi  price_range  \n",
              "battery_power  0.011522     -0.010516 -0.008343     0.200723  \n",
              "blue          -0.030236      0.010061 -0.021863     0.020573  \n",
              "clock_speed   -0.046433      0.019756 -0.024471    -0.006606  \n",
              "dual_sim      -0.014008     -0.017117  0.022740     0.017444  \n",
              "fc             0.001793     -0.014828  0.020085     0.021998  \n",
              "four_g         0.584246      0.016758 -0.017620     0.014772  \n",
              "int_memory    -0.009366     -0.026999  0.006993     0.044435  \n",
              "m_dep         -0.012065     -0.002638 -0.028353     0.000853  \n",
              "mobile_wt      0.001551     -0.014368 -0.000409    -0.030302  \n",
              "n_cores       -0.014733      0.023774 -0.009964     0.004399  \n",
              "pc            -0.001322     -0.008742  0.005389     0.033599  \n",
              "px_height     -0.031174      0.021891  0.051824     0.148858  \n",
              "px_width       0.000350     -0.001628  0.030319     0.165818  \n",
              "ram            0.015795     -0.030455  0.022669     0.917046  \n",
              "sc_h           0.012033     -0.020023  0.025929     0.022986  \n",
              "sc_w           0.030941      0.012720  0.035423     0.038711  \n",
              "talk_time     -0.042688      0.017196 -0.029504     0.021859  \n",
              "three_g        1.000000      0.013917  0.004316     0.023611  \n",
              "touch_screen   0.013917      1.000000  0.011917    -0.030411  \n",
              "wifi           0.004316      0.011917  1.000000     0.018785  \n",
              "price_range    0.023611     -0.030411  0.018785     1.000000  "
            ]
          },
          "metadata": {},
          "execution_count": 43
        }
      ]
    },
    {
      "cell_type": "code",
      "metadata": {
        "colab": {
          "base_uri": "https://localhost:8080/",
          "height": 774
        },
        "id": "EdNYN7WQfPyA",
        "outputId": "826fdfe2-82ad-4924-cc4a-68e28b891fd2"
      },
      "source": [
        "#Correlation between dependent and independent variables\n",
        "matrix = np.triu(df.corr())\n",
        "sns.set_style(\"white\")\n",
        "f,ax=plt.subplots(figsize = (20,12))\n",
        "sns.heatmap(df.corr(),annot= True,fmt = \".2f\",ax=ax,\n",
        "            vmin = -1,\n",
        "            vmax = 1, mask = matrix,cmap = \"YlGnBu\",\n",
        "            linewidth = 0.2,linecolor = \"white\")\n",
        "plt.xticks(rotation=70)\n",
        "plt.yticks(rotation=0)\n",
        "plt.title('Correlation Map', size = 9)\n",
        "plt.show()"
      ],
      "execution_count": 44,
      "outputs": [
        {
          "output_type": "display_data",
          "data": {
            "image/png": "[encoded data removed]",
            "text/plain": [
              "<Figure size 1440x864 with 2 Axes>"
            ]
          },
          "metadata": {}
        }
      ]
    },
    {
      "cell_type": "markdown",
      "metadata": {
        "id": "YWivAX-rfYl0"
      },
      "source": [
        "\n",
        "ram has the maximum correlation and px_height , px_width , battery_power have high correlation compared to other features"
      ]
    },
    {
      "cell_type": "code",
      "metadata": {
        "colab": {
          "base_uri": "https://localhost:8080/",
          "height": 463
        },
        "id": "1icqrPaXfX46",
        "outputId": "a7c4752f-2cc0-49e6-9f4e-f4dec24d1ade"
      },
      "source": [
        "#Correlation matrix of highly relevent features\n",
        "corr_matrix = df.corr()\n",
        "\n",
        "threshold = 0.20\n",
        "filter = np.abs(corr_matrix[\"price_range\"])>threshold\n",
        "corr_features = corr_matrix.columns[filter].tolist()\n",
        "\n",
        "f,ax=plt.subplots(figsize = (6,6))\n",
        "sns.heatmap(df[corr_features].corr(),annot= True,fmt = \".2f\",\n",
        "            vmin = -1,vmax = 1,ax=ax,annot_kws={\"size\": 16},cmap = \"coolwarm\")\n",
        "plt.xticks(rotation=45, size = 14)\n",
        "plt.yticks(rotation=0, size = 14)\n",
        "plt.title('Correlation btw Features', size = 14)\n",
        "plt.show()"
      ],
      "execution_count": 45,
      "outputs": [
        {
          "output_type": "display_data",
          "data": {
            "image/png": "[encoded data removed]",
            "text/plain": [
              "<Figure size 432x432 with 2 Axes>"
            ]
          },
          "metadata": {}
        }
      ]
    },
    {
      "cell_type": "markdown",
      "metadata": {
        "id": "0bL0ekikCfAz"
      },
      "source": [
        "so clock_speed,mobile_wt,touch_screen are negative correlation with target variable so we can ignore it"
      ]
    },
    {
      "cell_type": "code",
      "metadata": {
        "id": "f8niZpKBmOfR"
      },
      "source": [
        "#dropping irrelevent features\n",
        "df.drop(['touch_screen','mobile_wt','clock_speed'],axis=1,inplace=True)"
      ],
      "execution_count": 46,
      "outputs": []
    },
    {
      "cell_type": "code",
      "metadata": {
        "id": "rSlKL4TxEo0z"
      },
      "source": [
        "#independent variables\n",
        "X = df.drop('price_range',axis=1)"
      ],
      "execution_count": 47,
      "outputs": []
    },
    {
      "cell_type": "code",
      "metadata": {
        "id": "-gPAy_F5fNBz"
      },
      "source": [
        "#dependent variable\n",
        "y = df['price_range']"
      ],
      "execution_count": 48,
      "outputs": []
    },
    {
      "cell_type": "code",
      "metadata": {
        "id": "PX6qLV6lgr3_"
      },
      "source": [
        "#train test split data\n",
        "X_train,X_test,y_train,y_test = train_test_split(X,y,test_size=0.33,random_state=42, stratify=y)"
      ],
      "execution_count": 49,
      "outputs": []
    },
    {
      "cell_type": "code",
      "metadata": {
        "colab": {
          "base_uri": "https://localhost:8080/"
        },
        "id": "PBljhdaxoXL7",
        "outputId": "4c67dfcf-6890-4afb-9420-e1681d075f2c"
      },
      "source": [
        "print(X_train.shape)\n",
        "print(X_test.shape)"
      ],
      "execution_count": 50,
      "outputs": [
        {
          "output_type": "stream",
          "name": "stdout",
          "text": [
            "(1340, 17)\n",
            "(660, 17)\n"
          ]
        }
      ]
    },
    {
      "cell_type": "markdown",
      "metadata": {
        "id": "bhEEMziYvKBS"
      },
      "source": [
        "#**KNN Classifier**"
      ]
    },
    {
      "cell_type": "code",
      "metadata": {
        "id": "JRZvsTTphAIW"
      },
      "source": [
        "# Import KNeighborsClassifier\n",
        "from sklearn.neighbors import KNeighborsClassifier\n",
        "\n",
        "#Setup arrays to store training and test accuracies\n",
        "neighbors = np.arange(1,9)\n",
        "train_accuracy =np.empty(len(neighbors))\n",
        "test_accuracy = np.empty(len(neighbors))\n",
        "\n",
        "for i,k in enumerate(neighbors):\n",
        "    # Setup a knn classifier with k neighbors\n",
        "    knn = KNeighborsClassifier(n_neighbors=k)\n",
        "    \n",
        "    # Fit the model\n",
        "    knn.fit(X_train, y_train)\n",
        "    \n",
        "    # Compute accuracy on the training set\n",
        "    train_accuracy[i] = knn.score(X_train, y_train)\n",
        "    \n",
        "    # Compute accuracy on the test set\n",
        "    test_accuracy[i] = knn.score(X_test, y_test) "
      ],
      "execution_count": 51,
      "outputs": []
    },
    {
      "cell_type": "code",
      "metadata": {
        "colab": {
          "base_uri": "https://localhost:8080/",
          "height": 295
        },
        "id": "sEW-_cGjhat0",
        "outputId": "357af6fb-a645-4842-93f1-31f6254ddafb"
      },
      "source": [
        "# Generate plot\n",
        "plt.title('k-NN Varying number of neighbors')\n",
        "plt.plot(neighbors, test_accuracy, label='Testing Accuracy')\n",
        "plt.plot(neighbors, train_accuracy, label='Training accuracy')\n",
        "plt.legend()\n",
        "plt.xlabel('Number of neighbors')\n",
        "plt.ylabel('Accuracy')\n",
        "plt.show()"
      ],
      "execution_count": 52,
      "outputs": [
        {
          "output_type": "display_data",
          "data": {
            "image/png": "[encoded data removed]",
            "text/plain": [
              "<Figure size 432x288 with 1 Axes>"
            ]
          },
          "metadata": {}
        }
      ]
    },
    {
      "cell_type": "code",
      "metadata": {
        "id": "14mQ_9JIhgXs"
      },
      "source": [
        "# Setup a knn classifier with k neighbors\n",
        "knn = KNeighborsClassifier(n_neighbors=7)"
      ],
      "execution_count": 53,
      "outputs": []
    },
    {
      "cell_type": "code",
      "metadata": {
        "colab": {
          "base_uri": "https://localhost:8080/"
        },
        "id": "i-lp71bshzho",
        "outputId": "a5d2b939-8a2e-48c1-db9d-9348f3b3a01c"
      },
      "source": [
        "# Fit the model\n",
        "knn.fit(X_train,y_train)"
      ],
      "execution_count": 54,
      "outputs": [
        {
          "output_type": "execute_result",
          "data": {
            "text/plain": [
              "KNeighborsClassifier(algorithm='auto', leaf_size=30, metric='minkowski',\n",
              "                     metric_params=None, n_jobs=None, n_neighbors=7, p=2,\n",
              "                     weights='uniform')"
            ]
          },
          "metadata": {},
          "execution_count": 54
        }
      ]
    },
    {
      "cell_type": "code",
      "metadata": {
        "colab": {
          "base_uri": "https://localhost:8080/"
        },
        "id": "Rb50Debxh2rX",
        "outputId": "db39bd67-4274-4ba8-d50f-3fc5e7d0721a"
      },
      "source": [
        "#calculating metrics\n",
        "knn_test_score = knn.score(X_test,y_test)\n",
        "knn_test_score"
      ],
      "execution_count": 55,
      "outputs": [
        {
          "output_type": "execute_result",
          "data": {
            "text/plain": [
              "0.9272727272727272"
            ]
          },
          "metadata": {},
          "execution_count": 55
        }
      ]
    },
    {
      "cell_type": "code",
      "metadata": {
        "colab": {
          "base_uri": "https://localhost:8080/"
        },
        "id": "hp1AbOnrh7i1",
        "outputId": "04672ea3-3fc3-45a2-8739-2128481e9356"
      },
      "source": [
        "knn_train_score = knn.score(X_train,y_train)\n",
        "knn_train_score"
      ],
      "execution_count": 56,
      "outputs": [
        {
          "output_type": "execute_result",
          "data": {
            "text/plain": [
              "0.9492537313432836"
            ]
          },
          "metadata": {},
          "execution_count": 56
        }
      ]
    },
    {
      "cell_type": "code",
      "metadata": {
        "id": "92tDStjemywc"
      },
      "source": [
        "# Import confusion_matrix\n",
        "from sklearn.metrics import confusion_matrix,roc_auc_score,classification_report,roc_curve"
      ],
      "execution_count": 57,
      "outputs": []
    },
    {
      "cell_type": "code",
      "metadata": {
        "id": "XH3Cw_gYpca7"
      },
      "source": [
        "# Let us get the predictions using the classifier we had fit above\n",
        "y_train_pred = knn.predict(X_train)\n",
        "y_test_pred = knn.predict(X_test)"
      ],
      "execution_count": 58,
      "outputs": []
    },
    {
      "cell_type": "code",
      "metadata": {
        "colab": {
          "base_uri": "https://localhost:8080/"
        },
        "id": "hPFB4Po5penh",
        "outputId": "563b057b-1bea-4b1c-8a1a-320e8bbd2a35"
      },
      "source": [
        "matrix = confusion_matrix(y_test,y_test_pred)\n",
        "matrix"
      ],
      "execution_count": 59,
      "outputs": [
        {
          "output_type": "execute_result",
          "data": {
            "text/plain": [
              "array([[159,   6,   0,   0],\n",
              "       [  6, 153,   6,   0],\n",
              "       [  0,   8, 149,   8],\n",
              "       [  0,   0,  14, 151]])"
            ]
          },
          "metadata": {},
          "execution_count": 59
        }
      ]
    },
    {
      "cell_type": "code",
      "metadata": {
        "colab": {
          "base_uri": "https://localhost:8080/",
          "height": 407
        },
        "id": "iRXYyCedSlMm",
        "outputId": "d853ad96-f1cc-41da-b6fc-222542875981"
      },
      "source": [
        "#plotting confusion matrix for train set\n",
        "cm = confusion_matrix(y_train, y_train_pred)\n",
        "\n",
        "df1 = pd.DataFrame(columns=[\"0\",\"1\",\"2\",\"3\"], index= [\"0\",\"1\",\"2\",\"3\"], data= cm )\n",
        "\n",
        "f,ax = plt.subplots(figsize=(6,6))\n",
        "\n",
        "sns.heatmap(df1, annot=True,cmap=\"OrRd\", fmt= '.0f',\n",
        "            ax=ax,linewidths = 5, cbar = False,annot_kws={\"size\": 16})\n",
        "plt.xlabel(\"Predicted Label\")\n",
        "plt.xticks(size = 12)\n",
        "plt.yticks(size = 12, rotation = 0)\n",
        "plt.ylabel(\"True Label\")\n",
        "plt.title(\"Confusion Matrix\", size = 12)\n",
        "plt.show()"
      ],
      "execution_count": 60,
      "outputs": [
        {
          "output_type": "display_data",
          "data": {
            "image/png": "[encoded data removed]",
            "text/plain": [
              "<Figure size 432x432 with 1 Axes>"
            ]
          },
          "metadata": {}
        }
      ]
    },
    {
      "cell_type": "code",
      "metadata": {
        "colab": {
          "base_uri": "https://localhost:8080/",
          "height": 407
        },
        "id": "1IStMCApe-yC",
        "outputId": "ff674a27-8402-492b-9826-e8a8377c3d33"
      },
      "source": [
        "#plotting confusion matrixx for test set\n",
        "cm = confusion_matrix(y_test, y_test_pred)\n",
        "\n",
        "df1 = pd.DataFrame(columns=[\"0\",\"1\",\"2\",\"3\"], index= [\"0\",\"1\",\"2\",\"3\"], data= cm )\n",
        "\n",
        "f,ax = plt.subplots(figsize=(6,6))\n",
        "\n",
        "sns.heatmap(df1, annot=True,cmap=\"OrRd\", fmt= '.0f',\n",
        "            ax=ax,linewidths = 5, cbar = False,annot_kws={\"size\": 16})\n",
        "plt.xlabel(\"Predicted Label\")\n",
        "plt.xticks(size = 12)\n",
        "plt.yticks(size = 12, rotation = 0)\n",
        "plt.ylabel(\"True Label\")\n",
        "plt.title(\"Confusion Matrix\", size = 12)\n",
        "plt.show()"
      ],
      "execution_count": 61,
      "outputs": [
        {
          "output_type": "display_data",
          "data": {
            "image/png": "[encoded data removed]",
            "text/plain": [
              "<Figure size 432x432 with 1 Axes>"
            ]
          },
          "metadata": {}
        }
      ]
    },
    {
      "cell_type": "code",
      "metadata": {
        "id": "m-Wmbemupg5N"
      },
      "source": [
        "#predicting \n",
        "y_pred_proba = knn.predict_proba(X_test)"
      ],
      "execution_count": 62,
      "outputs": []
    },
    {
      "cell_type": "code",
      "metadata": {
        "colab": {
          "base_uri": "https://localhost:8080/"
        },
        "id": "WXCrcCtPPLT1",
        "outputId": "1918269f-6535-4cc2-d60a-0623ef548547"
      },
      "source": [
        "#roc_auc_score\n",
        "roc_auc_score(y_test, y_pred_proba, multi_class='ovo', average='weighted')"
      ],
      "execution_count": 63,
      "outputs": [
        {
          "output_type": "execute_result",
          "data": {
            "text/plain": [
              "0.9929736761554945"
            ]
          },
          "metadata": {},
          "execution_count": 63
        }
      ]
    },
    {
      "cell_type": "code",
      "metadata": {
        "colab": {
          "base_uri": "https://localhost:8080/",
          "height": 295
        },
        "id": "fGCaV7EpP8uF",
        "outputId": "7122936d-e6e8-4ddc-ad57-5da4247b93f3"
      },
      "source": [
        "# roc curve for classes\n",
        "fpr = {}\n",
        "tpr = {}\n",
        "thresh ={}\n",
        "\n",
        "n_class = 4\n",
        "\n",
        "for i in range(n_class):    \n",
        "    fpr[i], tpr[i], thresh[i] = roc_curve(y_test, y_pred_proba[:,i], pos_label=i)\n",
        "    \n",
        "# plotting knn multiclass ROC curve   \n",
        "plt.plot(fpr[0], tpr[0], linestyle='--',color='orange', label='Low_cost')\n",
        "plt.plot(fpr[1], tpr[1], linestyle='--',color='green', label='Medium_cost')\n",
        "plt.plot(fpr[2], tpr[2], linestyle='--',color='blue', label='High_cost')\n",
        "plt.plot(fpr[3], tpr[3], linestyle='--',color='red', label='Very_high_cost')\n",
        "plt.title('Knn Multiclass ROC curve')\n",
        "plt.xlabel('False Positive Rate')\n",
        "plt.ylabel('True Positive rate')\n",
        "plt.legend(loc='best')\n",
        "plt.savefig('Multiclass ROC',dpi=300);    \n"
      ],
      "execution_count": 64,
      "outputs": [
        {
          "output_type": "display_data",
          "data": {
            "image/png": "[encoded data removed]",
            "text/plain": [
              "<Figure size 432x288 with 1 Axes>"
            ]
          },
          "metadata": {}
        }
      ]
    },
    {
      "cell_type": "code",
      "metadata": {
        "colab": {
          "base_uri": "https://localhost:8080/"
        },
        "id": "exR8pMbHeNjw",
        "outputId": "d00ce96e-c200-4779-eeb9-ef7b0e9bc55b"
      },
      "source": [
        "#classification report for train \n",
        "print(classification_report(y_train,y_train_pred))"
      ],
      "execution_count": 65,
      "outputs": [
        {
          "output_type": "stream",
          "name": "stdout",
          "text": [
            "              precision    recall  f1-score   support\n",
            "\n",
            "           0       0.98      0.97      0.97       335\n",
            "           1       0.93      0.95      0.94       335\n",
            "           2       0.93      0.93      0.93       335\n",
            "           3       0.97      0.95      0.96       335\n",
            "\n",
            "    accuracy                           0.95      1340\n",
            "   macro avg       0.95      0.95      0.95      1340\n",
            "weighted avg       0.95      0.95      0.95      1340\n",
            "\n"
          ]
        }
      ]
    },
    {
      "cell_type": "code",
      "metadata": {
        "colab": {
          "base_uri": "https://localhost:8080/"
        },
        "id": "YeZ9MqqfqR-l",
        "outputId": "362777c8-cc46-489e-b197-015619660a28"
      },
      "source": [
        "#classification report for test\n",
        "print(classification_report(y_test,y_test_pred))"
      ],
      "execution_count": 66,
      "outputs": [
        {
          "output_type": "stream",
          "name": "stdout",
          "text": [
            "              precision    recall  f1-score   support\n",
            "\n",
            "           0       0.96      0.96      0.96       165\n",
            "           1       0.92      0.93      0.92       165\n",
            "           2       0.88      0.90      0.89       165\n",
            "           3       0.95      0.92      0.93       165\n",
            "\n",
            "    accuracy                           0.93       660\n",
            "   macro avg       0.93      0.93      0.93       660\n",
            "weighted avg       0.93      0.93      0.93       660\n",
            "\n"
          ]
        }
      ]
    },
    {
      "cell_type": "code",
      "metadata": {
        "colab": {
          "base_uri": "https://localhost:8080/"
        },
        "id": "1_4dA66Uv8Bd",
        "outputId": "1ff78558-95af-4da6-e60e-6c4ca7e0226a"
      },
      "source": [
        "y_test_pred"
      ],
      "execution_count": 67,
      "outputs": [
        {
          "output_type": "execute_result",
          "data": {
            "text/plain": [
              "array([0, 2, 3, 3, 1, 3, 3, 1, 2, 2, 3, 3, 2, 1, 0, 3, 2, 0, 3, 3, 0, 2,\n",
              "       1, 1, 3, 3, 1, 0, 1, 3, 3, 1, 3, 3, 1, 1, 3, 1, 3, 3, 2, 2, 2, 3,\n",
              "       2, 3, 2, 0, 3, 0, 0, 2, 0, 3, 1, 0, 1, 3, 2, 0, 0, 2, 2, 1, 0, 2,\n",
              "       0, 2, 0, 0, 1, 2, 3, 1, 2, 0, 2, 1, 1, 3, 2, 1, 1, 2, 3, 0, 2, 0,\n",
              "       0, 0, 0, 3, 3, 0, 3, 1, 3, 2, 3, 1, 0, 2, 2, 0, 0, 3, 2, 2, 1, 0,\n",
              "       3, 1, 1, 1, 0, 1, 2, 3, 3, 2, 0, 0, 1, 0, 3, 2, 0, 0, 0, 2, 3, 1,\n",
              "       2, 0, 1, 0, 2, 1, 0, 2, 1, 1, 3, 2, 3, 2, 3, 0, 3, 1, 2, 1, 3, 1,\n",
              "       2, 0, 0, 1, 3, 3, 2, 2, 2, 0, 2, 2, 1, 0, 1, 2, 3, 2, 0, 3, 3, 2,\n",
              "       2, 0, 1, 2, 1, 0, 2, 2, 0, 3, 2, 0, 2, 2, 3, 0, 1, 2, 2, 2, 3, 1,\n",
              "       3, 0, 2, 2, 0, 3, 1, 1, 1, 3, 1, 2, 2, 1, 3, 2, 2, 3, 3, 1, 2, 0,\n",
              "       1, 0, 3, 3, 3, 2, 0, 1, 3, 1, 3, 0, 3, 2, 0, 0, 2, 1, 1, 2, 0, 2,\n",
              "       0, 1, 3, 3, 2, 0, 2, 1, 0, 0, 3, 0, 3, 2, 3, 1, 1, 1, 1, 1, 3, 1,\n",
              "       0, 1, 0, 1, 1, 3, 1, 1, 2, 3, 3, 1, 2, 2, 2, 1, 1, 1, 1, 1, 1, 1,\n",
              "       0, 3, 0, 3, 3, 1, 2, 3, 0, 2, 3, 0, 0, 0, 2, 2, 1, 2, 3, 3, 1, 1,\n",
              "       1, 1, 0, 0, 1, 1, 2, 2, 1, 0, 2, 0, 2, 3, 3, 0, 2, 3, 0, 2, 3, 2,\n",
              "       1, 0, 1, 2, 3, 0, 1, 0, 1, 0, 0, 2, 3, 3, 1, 2, 2, 0, 0, 2, 3, 1,\n",
              "       1, 2, 3, 2, 2, 3, 1, 0, 0, 3, 0, 3, 0, 0, 0, 3, 1, 3, 3, 2, 1, 1,\n",
              "       1, 3, 0, 1, 0, 1, 1, 3, 0, 1, 1, 3, 0, 0, 2, 0, 1, 1, 2, 3, 2, 3,\n",
              "       1, 2, 3, 0, 3, 3, 0, 3, 0, 0, 0, 3, 0, 0, 1, 0, 2, 0, 2, 2, 1, 0,\n",
              "       2, 3, 2, 2, 3, 2, 3, 1, 3, 3, 2, 2, 2, 3, 1, 3, 2, 0, 3, 1, 0, 1,\n",
              "       0, 2, 3, 0, 0, 0, 1, 0, 0, 0, 2, 1, 0, 1, 1, 2, 1, 2, 1, 1, 0, 1,\n",
              "       3, 3, 0, 0, 1, 3, 2, 3, 3, 1, 1, 3, 1, 2, 1, 3, 2, 0, 2, 0, 1, 1,\n",
              "       1, 3, 1, 3, 3, 1, 3, 3, 3, 3, 2, 1, 3, 2, 2, 3, 0, 1, 1, 0, 0, 3,\n",
              "       2, 1, 1, 1, 3, 0, 0, 2, 3, 2, 2, 1, 1, 0, 1, 1, 0, 0, 1, 3, 2, 2,\n",
              "       3, 1, 0, 1, 0, 0, 0, 0, 3, 1, 3, 3, 1, 0, 0, 0, 2, 2, 3, 0, 2, 1,\n",
              "       2, 3, 2, 0, 1, 3, 2, 2, 3, 3, 3, 1, 3, 2, 2, 2, 1, 2, 0, 0, 0, 0,\n",
              "       0, 3, 2, 0, 0, 2, 1, 0, 0, 0, 1, 3, 3, 0, 2, 3, 1, 0, 1, 3, 1, 1,\n",
              "       2, 2, 0, 2, 2, 3, 2, 2, 2, 2, 2, 0, 2, 1, 3, 2, 1, 3, 2, 0, 2, 2,\n",
              "       2, 3, 1, 1, 0, 3, 1, 3, 2, 1, 0, 2, 1, 2, 3, 0, 3, 0, 2, 0, 0, 0,\n",
              "       1, 0, 1, 2, 3, 1, 0, 3, 0, 2, 2, 2, 2, 0, 2, 1, 1, 3, 2, 1, 1, 0])"
            ]
          },
          "metadata": {},
          "execution_count": 67
        }
      ]
    },
    {
      "cell_type": "code",
      "metadata": {
        "colab": {
          "base_uri": "https://localhost:8080/"
        },
        "id": "oqOJvu7gwGTf",
        "outputId": "0b702ee2-615a-40d3-cfec-c73a50100736"
      },
      "source": [
        "y_test"
      ],
      "execution_count": 68,
      "outputs": [
        {
          "output_type": "execute_result",
          "data": {
            "text/plain": [
              "1294    0\n",
              "403     2\n",
              "125     3\n",
              "1871    3\n",
              "297     1\n",
              "       ..\n",
              "303     3\n",
              "1638    2\n",
              "1804    1\n",
              "893     1\n",
              "262     0\n",
              "Name: price_range, Length: 660, dtype: int64"
            ]
          },
          "metadata": {},
          "execution_count": 68
        }
      ]
    },
    {
      "cell_type": "markdown",
      "metadata": {
        "id": "H7M-AhFbuIfI"
      },
      "source": [
        "#**Random Forest**"
      ]
    },
    {
      "cell_type": "code",
      "metadata": {
        "id": "NXUP9vOh4coF"
      },
      "source": [
        "from sklearn.ensemble import RandomForestClassifier"
      ],
      "execution_count": 69,
      "outputs": []
    },
    {
      "cell_type": "code",
      "metadata": {
        "id": "ft8hkjNALafZ"
      },
      "source": [
        "# Number of trees\n",
        "n_estimators = [50,80,100]\n",
        "\n",
        "# Maximum depth of trees\n",
        "max_depth = [4,6,8]\n",
        "\n",
        "# Minimum number of samples required to split a node\n",
        "min_samples_split = [50,100,150]\n",
        "\n",
        "# Minimum number of samples required at each leaf node\n",
        "min_samples_leaf = [40,50]\n",
        "\n",
        "# HYperparameter Grid\n",
        "param_dict = {'n_estimators' : n_estimators,\n",
        "              'max_depth' : max_depth,\n",
        "              'min_samples_split' : min_samples_split,\n",
        "              'min_samples_leaf' : min_samples_leaf}"
      ],
      "execution_count": 70,
      "outputs": []
    },
    {
      "cell_type": "code",
      "metadata": {
        "colab": {
          "base_uri": "https://localhost:8080/"
        },
        "id": "3YtfYCYyLjy9",
        "outputId": "9900556b-7c7c-43cb-842d-e985b557983e"
      },
      "source": [
        "param_dict"
      ],
      "execution_count": 71,
      "outputs": [
        {
          "output_type": "execute_result",
          "data": {
            "text/plain": [
              "{'max_depth': [4, 6, 8],\n",
              " 'min_samples_leaf': [40, 50],\n",
              " 'min_samples_split': [50, 100, 150],\n",
              " 'n_estimators': [50, 80, 100]}"
            ]
          },
          "metadata": {},
          "execution_count": 71
        }
      ]
    },
    {
      "cell_type": "code",
      "metadata": {
        "colab": {
          "base_uri": "https://localhost:8080/"
        },
        "id": "j2ffkJHELlrh",
        "outputId": "1473ea26-3bd7-4090-c857-2599c0abdcf2"
      },
      "source": [
        "# Create an instance of the RandomForestClassifier\n",
        "rf_model = RandomForestClassifier()\n",
        "\n",
        "# Grid search\n",
        "rf_grid = GridSearchCV(estimator=rf_model,\n",
        "                       param_grid = param_dict,\n",
        "                       cv = 5, verbose=2, scoring='accuracy')\n",
        "\n",
        "rf_grid.fit(X_train,y_train)"
      ],
      "execution_count": 72,
      "outputs": [
        {
          "output_type": "stream",
          "name": "stdout",
          "text": [
            "Fitting 5 folds for each of 54 candidates, totalling 270 fits\n",
            "[CV] max_depth=4, min_samples_leaf=40, min_samples_split=50, n_estimators=50 \n",
            "[CV]  max_depth=4, min_samples_leaf=40, min_samples_split=50, n_estimators=50, total=   0.1s\n",
            "[CV] max_depth=4, min_samples_leaf=40, min_samples_split=50, n_estimators=50 \n"
          ]
        },
        {
          "output_type": "stream",
          "name": "stderr",
          "text": [
            "[Parallel(n_jobs=1)]: Using backend SequentialBackend with 1 concurrent workers.\n",
            "[Parallel(n_jobs=1)]: Done   1 out of   1 | elapsed:    0.1s remaining:    0.0s\n"
          ]
        },
        {
          "output_type": "stream",
          "name": "stdout",
          "text": [
            "[CV]  max_depth=4, min_samples_leaf=40, min_samples_split=50, n_estimators=50, total=   0.1s\n",
            "[CV] max_depth=4, min_samples_leaf=40, min_samples_split=50, n_estimators=50 \n",
            "[CV]  max_depth=4, min_samples_leaf=40, min_samples_split=50, n_estimators=50, total=   0.1s\n",
            "[CV] max_depth=4, min_samples_leaf=40, min_samples_split=50, n_estimators=50 \n",
            "[CV]  max_depth=4, min_samples_leaf=40, min_samples_split=50, n_estimators=50, total=   0.1s\n",
            "[CV] max_depth=4, min_samples_leaf=40, min_samples_split=50, n_estimators=50 \n",
            "[CV]  max_depth=4, min_samples_leaf=40, min_samples_split=50, n_estimators=50, total=   0.1s\n",
            "[CV] max_depth=4, min_samples_leaf=40, min_samples_split=50, n_estimators=80 \n",
            "[CV]  max_depth=4, min_samples_leaf=40, min_samples_split=50, n_estimators=80, total=   0.2s\n",
            "[CV] max_depth=4, min_samples_leaf=40, min_samples_split=50, n_estimators=80 \n",
            "[CV]  max_depth=4, min_samples_leaf=40, min_samples_split=50, n_estimators=80, total=   0.2s\n",
            "[CV] max_depth=4, min_samples_leaf=40, min_samples_split=50, n_estimators=80 \n",
            "[CV]  max_depth=4, min_samples_leaf=40, min_samples_split=50, n_estimators=80, total=   0.2s\n",
            "[CV] max_depth=4, min_samples_leaf=40, min_samples_split=50, n_estimators=80 \n",
            "[CV]  max_depth=4, min_samples_leaf=40, min_samples_split=50, n_estimators=80, total=   0.2s\n",
            "[CV] max_depth=4, min_samples_leaf=40, min_samples_split=50, n_estimators=80 \n",
            "[CV]  max_depth=4, min_samples_leaf=40, min_samples_split=50, n_estimators=80, total=   0.2s\n",
            "[CV] max_depth=4, min_samples_leaf=40, min_samples_split=50, n_estimators=100 \n",
            "[CV]  max_depth=4, min_samples_leaf=40, min_samples_split=50, n_estimators=100, total=   0.2s\n",
            "[CV] max_depth=4, min_samples_leaf=40, min_samples_split=50, n_estimators=100 \n",
            "[CV]  max_depth=4, min_samples_leaf=40, min_samples_split=50, n_estimators=100, total=   0.2s\n",
            "[CV] max_depth=4, min_samples_leaf=40, min_samples_split=50, n_estimators=100 \n",
            "[CV]  max_depth=4, min_samples_leaf=40, min_samples_split=50, n_estimators=100, total=   0.2s\n",
            "[CV] max_depth=4, min_samples_leaf=40, min_samples_split=50, n_estimators=100 \n",
            "[CV]  max_depth=4, min_samples_leaf=40, min_samples_split=50, n_estimators=100, total=   0.2s\n",
            "[CV] max_depth=4, min_samples_leaf=40, min_samples_split=50, n_estimators=100 \n",
            "[CV]  max_depth=4, min_samples_leaf=40, min_samples_split=50, n_estimators=100, total=   0.2s\n",
            "[CV] max_depth=4, min_samples_leaf=40, min_samples_split=100, n_estimators=50 \n",
            "[CV]  max_depth=4, min_samples_leaf=40, min_samples_split=100, n_estimators=50, total=   0.1s\n",
            "[CV] max_depth=4, min_samples_leaf=40, min_samples_split=100, n_estimators=50 \n",
            "[CV]  max_depth=4, min_samples_leaf=40, min_samples_split=100, n_estimators=50, total=   0.1s\n",
            "[CV] max_depth=4, min_samples_leaf=40, min_samples_split=100, n_estimators=50 \n",
            "[CV]  max_depth=4, min_samples_leaf=40, min_samples_split=100, n_estimators=50, total=   0.1s\n",
            "[CV] max_depth=4, min_samples_leaf=40, min_samples_split=100, n_estimators=50 \n",
            "[CV]  max_depth=4, min_samples_leaf=40, min_samples_split=100, n_estimators=50, total=   0.1s\n",
            "[CV] max_depth=4, min_samples_leaf=40, min_samples_split=100, n_estimators=50 \n",
            "[CV]  max_depth=4, min_samples_leaf=40, min_samples_split=100, n_estimators=50, total=   0.1s\n",
            "[CV] max_depth=4, min_samples_leaf=40, min_samples_split=100, n_estimators=80 \n",
            "[CV]  max_depth=4, min_samples_leaf=40, min_samples_split=100, n_estimators=80, total=   0.2s\n",
            "[CV] max_depth=4, min_samples_leaf=40, min_samples_split=100, n_estimators=80 \n",
            "[CV]  max_depth=4, min_samples_leaf=40, min_samples_split=100, n_estimators=80, total=   0.2s\n",
            "[CV] max_depth=4, min_samples_leaf=40, min_samples_split=100, n_estimators=80 \n",
            "[CV]  max_depth=4, min_samples_leaf=40, min_samples_split=100, n_estimators=80, total=   0.2s\n",
            "[CV] max_depth=4, min_samples_leaf=40, min_samples_split=100, n_estimators=80 \n",
            "[CV]  max_depth=4, min_samples_leaf=40, min_samples_split=100, n_estimators=80, total=   0.2s\n",
            "[CV] max_depth=4, min_samples_leaf=40, min_samples_split=100, n_estimators=80 \n",
            "[CV]  max_depth=4, min_samples_leaf=40, min_samples_split=100, n_estimators=80, total=   0.2s\n",
            "[CV] max_depth=4, min_samples_leaf=40, min_samples_split=100, n_estimators=100 \n",
            "[CV]  max_depth=4, min_samples_leaf=40, min_samples_split=100, n_estimators=100, total=   0.2s\n",
            "[CV] max_depth=4, min_samples_leaf=40, min_samples_split=100, n_estimators=100 \n",
            "[CV]  max_depth=4, min_samples_leaf=40, min_samples_split=100, n_estimators=100, total=   0.2s\n",
            "[CV] max_depth=4, min_samples_leaf=40, min_samples_split=100, n_estimators=100 \n",
            "[CV]  max_depth=4, min_samples_leaf=40, min_samples_split=100, n_estimators=100, total=   0.2s\n",
            "[CV] max_depth=4, min_samples_leaf=40, min_samples_split=100, n_estimators=100 \n",
            "[CV]  max_depth=4, min_samples_leaf=40, min_samples_split=100, n_estimators=100, total=   0.2s\n",
            "[CV] max_depth=4, min_samples_leaf=40, min_samples_split=100, n_estimators=100 \n",
            "[CV]  max_depth=4, min_samples_leaf=40, min_samples_split=100, n_estimators=100, total=   0.2s\n",
            "[CV] max_depth=4, min_samples_leaf=40, min_samples_split=150, n_estimators=50 \n",
            "[CV]  max_depth=4, min_samples_leaf=40, min_samples_split=150, n_estimators=50, total=   0.1s\n",
            "[CV] max_depth=4, min_samples_leaf=40, min_samples_split=150, n_estimators=50 \n",
            "[CV]  max_depth=4, min_samples_leaf=40, min_samples_split=150, n_estimators=50, total=   0.1s\n",
            "[CV] max_depth=4, min_samples_leaf=40, min_samples_split=150, n_estimators=50 \n",
            "[CV]  max_depth=4, min_samples_leaf=40, min_samples_split=150, n_estimators=50, total=   0.1s\n",
            "[CV] max_depth=4, min_samples_leaf=40, min_samples_split=150, n_estimators=50 \n",
            "[CV]  max_depth=4, min_samples_leaf=40, min_samples_split=150, n_estimators=50, total=   0.1s\n",
            "[CV] max_depth=4, min_samples_leaf=40, min_samples_split=150, n_estimators=50 \n",
            "[CV]  max_depth=4, min_samples_leaf=40, min_samples_split=150, n_estimators=50, total=   0.1s\n",
            "[CV] max_depth=4, min_samples_leaf=40, min_samples_split=150, n_estimators=80 \n",
            "[CV]  max_depth=4, min_samples_leaf=40, min_samples_split=150, n_estimators=80, total=   0.2s\n",
            "[CV] max_depth=4, min_samples_leaf=40, min_samples_split=150, n_estimators=80 \n",
            "[CV]  max_depth=4, min_samples_leaf=40, min_samples_split=150, n_estimators=80, total=   0.2s\n",
            "[CV] max_depth=4, min_samples_leaf=40, min_samples_split=150, n_estimators=80 \n",
            "[CV]  max_depth=4, min_samples_leaf=40, min_samples_split=150, n_estimators=80, total=   0.2s\n",
            "[CV] max_depth=4, min_samples_leaf=40, min_samples_split=150, n_estimators=80 \n",
            "[CV]  max_depth=4, min_samples_leaf=40, min_samples_split=150, n_estimators=80, total=   0.2s\n",
            "[CV] max_depth=4, min_samples_leaf=40, min_samples_split=150, n_estimators=80 \n",
            "[CV]  max_depth=4, min_samples_leaf=40, min_samples_split=150, n_estimators=80, total=   0.2s\n",
            "[CV] max_depth=4, min_samples_leaf=40, min_samples_split=150, n_estimators=100 \n",
            "[CV]  max_depth=4, min_samples_leaf=40, min_samples_split=150, n_estimators=100, total=   0.2s\n",
            "[CV] max_depth=4, min_samples_leaf=40, min_samples_split=150, n_estimators=100 \n",
            "[CV]  max_depth=4, min_samples_leaf=40, min_samples_split=150, n_estimators=100, total=   0.2s\n",
            "[CV] max_depth=4, min_samples_leaf=40, min_samples_split=150, n_estimators=100 \n",
            "[CV]  max_depth=4, min_samples_leaf=40, min_samples_split=150, n_estimators=100, total=   0.2s\n",
            "[CV] max_depth=4, min_samples_leaf=40, min_samples_split=150, n_estimators=100 \n",
            "[CV]  max_depth=4, min_samples_leaf=40, min_samples_split=150, n_estimators=100, total=   0.2s\n",
            "[CV] max_depth=4, min_samples_leaf=40, min_samples_split=150, n_estimators=100 \n",
            "[CV]  max_depth=4, min_samples_leaf=40, min_samples_split=150, n_estimators=100, total=   0.2s\n",
            "[CV] max_depth=4, min_samples_leaf=50, min_samples_split=50, n_estimators=50 \n",
            "[CV]  max_depth=4, min_samples_leaf=50, min_samples_split=50, n_estimators=50, total=   0.1s\n",
            "[CV] max_depth=4, min_samples_leaf=50, min_samples_split=50, n_estimators=50 \n",
            "[CV]  max_depth=4, min_samples_leaf=50, min_samples_split=50, n_estimators=50, total=   0.1s\n",
            "[CV] max_depth=4, min_samples_leaf=50, min_samples_split=50, n_estimators=50 \n",
            "[CV]  max_depth=4, min_samples_leaf=50, min_samples_split=50, n_estimators=50, total=   0.1s\n",
            "[CV] max_depth=4, min_samples_leaf=50, min_samples_split=50, n_estimators=50 \n",
            "[CV]  max_depth=4, min_samples_leaf=50, min_samples_split=50, n_estimators=50, total=   0.1s\n",
            "[CV] max_depth=4, min_samples_leaf=50, min_samples_split=50, n_estimators=50 \n",
            "[CV]  max_depth=4, min_samples_leaf=50, min_samples_split=50, n_estimators=50, total=   0.1s\n",
            "[CV] max_depth=4, min_samples_leaf=50, min_samples_split=50, n_estimators=80 \n",
            "[CV]  max_depth=4, min_samples_leaf=50, min_samples_split=50, n_estimators=80, total=   0.2s\n",
            "[CV] max_depth=4, min_samples_leaf=50, min_samples_split=50, n_estimators=80 \n",
            "[CV]  max_depth=4, min_samples_leaf=50, min_samples_split=50, n_estimators=80, total=   0.2s\n",
            "[CV] max_depth=4, min_samples_leaf=50, min_samples_split=50, n_estimators=80 \n",
            "[CV]  max_depth=4, min_samples_leaf=50, min_samples_split=50, n_estimators=80, total=   0.2s\n",
            "[CV] max_depth=4, min_samples_leaf=50, min_samples_split=50, n_estimators=80 \n",
            "[CV]  max_depth=4, min_samples_leaf=50, min_samples_split=50, n_estimators=80, total=   0.2s\n",
            "[CV] max_depth=4, min_samples_leaf=50, min_samples_split=50, n_estimators=80 \n",
            "[CV]  max_depth=4, min_samples_leaf=50, min_samples_split=50, n_estimators=80, total=   0.2s\n",
            "[CV] max_depth=4, min_samples_leaf=50, min_samples_split=50, n_estimators=100 \n",
            "[CV]  max_depth=4, min_samples_leaf=50, min_samples_split=50, n_estimators=100, total=   0.2s\n",
            "[CV] max_depth=4, min_samples_leaf=50, min_samples_split=50, n_estimators=100 \n",
            "[CV]  max_depth=4, min_samples_leaf=50, min_samples_split=50, n_estimators=100, total=   0.2s\n",
            "[CV] max_depth=4, min_samples_leaf=50, min_samples_split=50, n_estimators=100 \n",
            "[CV]  max_depth=4, min_samples_leaf=50, min_samples_split=50, n_estimators=100, total=   0.2s\n",
            "[CV] max_depth=4, min_samples_leaf=50, min_samples_split=50, n_estimators=100 \n",
            "[CV]  max_depth=4, min_samples_leaf=50, min_samples_split=50, n_estimators=100, total=   0.2s\n",
            "[CV] max_depth=4, min_samples_leaf=50, min_samples_split=50, n_estimators=100 \n",
            "[CV]  max_depth=4, min_samples_leaf=50, min_samples_split=50, n_estimators=100, total=   0.2s\n",
            "[CV] max_depth=4, min_samples_leaf=50, min_samples_split=100, n_estimators=50 \n",
            "[CV]  max_depth=4, min_samples_leaf=50, min_samples_split=100, n_estimators=50, total=   0.1s\n",
            "[CV] max_depth=4, min_samples_leaf=50, min_samples_split=100, n_estimators=50 \n",
            "[CV]  max_depth=4, min_samples_leaf=50, min_samples_split=100, n_estimators=50, total=   0.1s\n",
            "[CV] max_depth=4, min_samples_leaf=50, min_samples_split=100, n_estimators=50 \n",
            "[CV]  max_depth=4, min_samples_leaf=50, min_samples_split=100, n_estimators=50, total=   0.1s\n",
            "[CV] max_depth=4, min_samples_leaf=50, min_samples_split=100, n_estimators=50 \n",
            "[CV]  max_depth=4, min_samples_leaf=50, min_samples_split=100, n_estimators=50, total=   0.1s\n",
            "[CV] max_depth=4, min_samples_leaf=50, min_samples_split=100, n_estimators=50 \n",
            "[CV]  max_depth=4, min_samples_leaf=50, min_samples_split=100, n_estimators=50, total=   0.1s\n",
            "[CV] max_depth=4, min_samples_leaf=50, min_samples_split=100, n_estimators=80 \n",
            "[CV]  max_depth=4, min_samples_leaf=50, min_samples_split=100, n_estimators=80, total=   0.2s\n",
            "[CV] max_depth=4, min_samples_leaf=50, min_samples_split=100, n_estimators=80 \n",
            "[CV]  max_depth=4, min_samples_leaf=50, min_samples_split=100, n_estimators=80, total=   0.2s\n",
            "[CV] max_depth=4, min_samples_leaf=50, min_samples_split=100, n_estimators=80 \n",
            "[CV]  max_depth=4, min_samples_leaf=50, min_samples_split=100, n_estimators=80, total=   0.2s\n",
            "[CV] max_depth=4, min_samples_leaf=50, min_samples_split=100, n_estimators=80 \n",
            "[CV]  max_depth=4, min_samples_leaf=50, min_samples_split=100, n_estimators=80, total=   0.2s\n",
            "[CV] max_depth=4, min_samples_leaf=50, min_samples_split=100, n_estimators=80 \n",
            "[CV]  max_depth=4, min_samples_leaf=50, min_samples_split=100, n_estimators=80, total=   0.2s\n",
            "[CV] max_depth=4, min_samples_leaf=50, min_samples_split=100, n_estimators=100 \n",
            "[CV]  max_depth=4, min_samples_leaf=50, min_samples_split=100, n_estimators=100, total=   0.2s\n",
            "[CV] max_depth=4, min_samples_leaf=50, min_samples_split=100, n_estimators=100 \n",
            "[CV]  max_depth=4, min_samples_leaf=50, min_samples_split=100, n_estimators=100, total=   0.2s\n",
            "[CV] max_depth=4, min_samples_leaf=50, min_samples_split=100, n_estimators=100 \n",
            "[CV]  max_depth=4, min_samples_leaf=50, min_samples_split=100, n_estimators=100, total=   0.2s\n",
            "[CV] max_depth=4, min_samples_leaf=50, min_samples_split=100, n_estimators=100 \n",
            "[CV]  max_depth=4, min_samples_leaf=50, min_samples_split=100, n_estimators=100, total=   0.2s\n",
            "[CV] max_depth=4, min_samples_leaf=50, min_samples_split=100, n_estimators=100 \n",
            "[CV]  max_depth=4, min_samples_leaf=50, min_samples_split=100, n_estimators=100, total=   0.3s\n",
            "[CV] max_depth=4, min_samples_leaf=50, min_samples_split=150, n_estimators=50 \n",
            "[CV]  max_depth=4, min_samples_leaf=50, min_samples_split=150, n_estimators=50, total=   0.1s\n",
            "[CV] max_depth=4, min_samples_leaf=50, min_samples_split=150, n_estimators=50 \n",
            "[CV]  max_depth=4, min_samples_leaf=50, min_samples_split=150, n_estimators=50, total=   0.1s\n",
            "[CV] max_depth=4, min_samples_leaf=50, min_samples_split=150, n_estimators=50 \n",
            "[CV]  max_depth=4, min_samples_leaf=50, min_samples_split=150, n_estimators=50, total=   0.1s\n",
            "[CV] max_depth=4, min_samples_leaf=50, min_samples_split=150, n_estimators=50 \n",
            "[CV]  max_depth=4, min_samples_leaf=50, min_samples_split=150, n_estimators=50, total=   0.1s\n",
            "[CV] max_depth=4, min_samples_leaf=50, min_samples_split=150, n_estimators=50 \n",
            "[CV]  max_depth=4, min_samples_leaf=50, min_samples_split=150, n_estimators=50, total=   0.1s\n",
            "[CV] max_depth=4, min_samples_leaf=50, min_samples_split=150, n_estimators=80 \n",
            "[CV]  max_depth=4, min_samples_leaf=50, min_samples_split=150, n_estimators=80, total=   0.2s\n",
            "[CV] max_depth=4, min_samples_leaf=50, min_samples_split=150, n_estimators=80 \n",
            "[CV]  max_depth=4, min_samples_leaf=50, min_samples_split=150, n_estimators=80, total=   0.2s\n",
            "[CV] max_depth=4, min_samples_leaf=50, min_samples_split=150, n_estimators=80 \n",
            "[CV]  max_depth=4, min_samples_leaf=50, min_samples_split=150, n_estimators=80, total=   0.2s\n",
            "[CV] max_depth=4, min_samples_leaf=50, min_samples_split=150, n_estimators=80 \n",
            "[CV]  max_depth=4, min_samples_leaf=50, min_samples_split=150, n_estimators=80, total=   0.2s\n",
            "[CV] max_depth=4, min_samples_leaf=50, min_samples_split=150, n_estimators=80 \n",
            "[CV]  max_depth=4, min_samples_leaf=50, min_samples_split=150, n_estimators=80, total=   0.2s\n",
            "[CV] max_depth=4, min_samples_leaf=50, min_samples_split=150, n_estimators=100 \n",
            "[CV]  max_depth=4, min_samples_leaf=50, min_samples_split=150, n_estimators=100, total=   0.2s\n",
            "[CV] max_depth=4, min_samples_leaf=50, min_samples_split=150, n_estimators=100 \n",
            "[CV]  max_depth=4, min_samples_leaf=50, min_samples_split=150, n_estimators=100, total=   0.2s\n",
            "[CV] max_depth=4, min_samples_leaf=50, min_samples_split=150, n_estimators=100 \n",
            "[CV]  max_depth=4, min_samples_leaf=50, min_samples_split=150, n_estimators=100, total=   0.2s\n",
            "[CV] max_depth=4, min_samples_leaf=50, min_samples_split=150, n_estimators=100 \n",
            "[CV]  max_depth=4, min_samples_leaf=50, min_samples_split=150, n_estimators=100, total=   0.2s\n",
            "[CV] max_depth=4, min_samples_leaf=50, min_samples_split=150, n_estimators=100 \n",
            "[CV]  max_depth=4, min_samples_leaf=50, min_samples_split=150, n_estimators=100, total=   0.2s\n",
            "[CV] max_depth=6, min_samples_leaf=40, min_samples_split=50, n_estimators=50 \n",
            "[CV]  max_depth=6, min_samples_leaf=40, min_samples_split=50, n_estimators=50, total=   0.1s\n",
            "[CV] max_depth=6, min_samples_leaf=40, min_samples_split=50, n_estimators=50 \n",
            "[CV]  max_depth=6, min_samples_leaf=40, min_samples_split=50, n_estimators=50, total=   0.1s\n",
            "[CV] max_depth=6, min_samples_leaf=40, min_samples_split=50, n_estimators=50 \n",
            "[CV]  max_depth=6, min_samples_leaf=40, min_samples_split=50, n_estimators=50, total=   0.1s\n",
            "[CV] max_depth=6, min_samples_leaf=40, min_samples_split=50, n_estimators=50 \n",
            "[CV]  max_depth=6, min_samples_leaf=40, min_samples_split=50, n_estimators=50, total=   0.1s\n",
            "[CV] max_depth=6, min_samples_leaf=40, min_samples_split=50, n_estimators=50 \n",
            "[CV]  max_depth=6, min_samples_leaf=40, min_samples_split=50, n_estimators=50, total=   0.1s\n",
            "[CV] max_depth=6, min_samples_leaf=40, min_samples_split=50, n_estimators=80 \n",
            "[CV]  max_depth=6, min_samples_leaf=40, min_samples_split=50, n_estimators=80, total=   0.2s\n",
            "[CV] max_depth=6, min_samples_leaf=40, min_samples_split=50, n_estimators=80 \n",
            "[CV]  max_depth=6, min_samples_leaf=40, min_samples_split=50, n_estimators=80, total=   0.2s\n",
            "[CV] max_depth=6, min_samples_leaf=40, min_samples_split=50, n_estimators=80 \n",
            "[CV]  max_depth=6, min_samples_leaf=40, min_samples_split=50, n_estimators=80, total=   0.2s\n",
            "[CV] max_depth=6, min_samples_leaf=40, min_samples_split=50, n_estimators=80 \n",
            "[CV]  max_depth=6, min_samples_leaf=40, min_samples_split=50, n_estimators=80, total=   0.2s\n",
            "[CV] max_depth=6, min_samples_leaf=40, min_samples_split=50, n_estimators=80 \n",
            "[CV]  max_depth=6, min_samples_leaf=40, min_samples_split=50, n_estimators=80, total=   0.2s\n",
            "[CV] max_depth=6, min_samples_leaf=40, min_samples_split=50, n_estimators=100 \n",
            "[CV]  max_depth=6, min_samples_leaf=40, min_samples_split=50, n_estimators=100, total=   0.2s\n",
            "[CV] max_depth=6, min_samples_leaf=40, min_samples_split=50, n_estimators=100 \n",
            "[CV]  max_depth=6, min_samples_leaf=40, min_samples_split=50, n_estimators=100, total=   0.2s\n",
            "[CV] max_depth=6, min_samples_leaf=40, min_samples_split=50, n_estimators=100 \n",
            "[CV]  max_depth=6, min_samples_leaf=40, min_samples_split=50, n_estimators=100, total=   0.2s\n",
            "[CV] max_depth=6, min_samples_leaf=40, min_samples_split=50, n_estimators=100 \n",
            "[CV]  max_depth=6, min_samples_leaf=40, min_samples_split=50, n_estimators=100, total=   0.2s\n",
            "[CV] max_depth=6, min_samples_leaf=40, min_samples_split=50, n_estimators=100 \n",
            "[CV]  max_depth=6, min_samples_leaf=40, min_samples_split=50, n_estimators=100, total=   0.2s\n",
            "[CV] max_depth=6, min_samples_leaf=40, min_samples_split=100, n_estimators=50 \n",
            "[CV]  max_depth=6, min_samples_leaf=40, min_samples_split=100, n_estimators=50, total=   0.1s\n",
            "[CV] max_depth=6, min_samples_leaf=40, min_samples_split=100, n_estimators=50 \n",
            "[CV]  max_depth=6, min_samples_leaf=40, min_samples_split=100, n_estimators=50, total=   0.1s\n",
            "[CV] max_depth=6, min_samples_leaf=40, min_samples_split=100, n_estimators=50 \n",
            "[CV]  max_depth=6, min_samples_leaf=40, min_samples_split=100, n_estimators=50, total=   0.1s\n",
            "[CV] max_depth=6, min_samples_leaf=40, min_samples_split=100, n_estimators=50 \n",
            "[CV]  max_depth=6, min_samples_leaf=40, min_samples_split=100, n_estimators=50, total=   0.1s\n",
            "[CV] max_depth=6, min_samples_leaf=40, min_samples_split=100, n_estimators=50 \n",
            "[CV]  max_depth=6, min_samples_leaf=40, min_samples_split=100, n_estimators=50, total=   0.1s\n",
            "[CV] max_depth=6, min_samples_leaf=40, min_samples_split=100, n_estimators=80 \n",
            "[CV]  max_depth=6, min_samples_leaf=40, min_samples_split=100, n_estimators=80, total=   0.2s\n",
            "[CV] max_depth=6, min_samples_leaf=40, min_samples_split=100, n_estimators=80 \n",
            "[CV]  max_depth=6, min_samples_leaf=40, min_samples_split=100, n_estimators=80, total=   0.2s\n",
            "[CV] max_depth=6, min_samples_leaf=40, min_samples_split=100, n_estimators=80 \n",
            "[CV]  max_depth=6, min_samples_leaf=40, min_samples_split=100, n_estimators=80, total=   0.2s\n",
            "[CV] max_depth=6, min_samples_leaf=40, min_samples_split=100, n_estimators=80 \n",
            "[CV]  max_depth=6, min_samples_leaf=40, min_samples_split=100, n_estimators=80, total=   0.2s\n",
            "[CV] max_depth=6, min_samples_leaf=40, min_samples_split=100, n_estimators=80 \n",
            "[CV]  max_depth=6, min_samples_leaf=40, min_samples_split=100, n_estimators=80, total=   0.2s\n",
            "[CV] max_depth=6, min_samples_leaf=40, min_samples_split=100, n_estimators=100 \n",
            "[CV]  max_depth=6, min_samples_leaf=40, min_samples_split=100, n_estimators=100, total=   0.2s\n",
            "[CV] max_depth=6, min_samples_leaf=40, min_samples_split=100, n_estimators=100 \n",
            "[CV]  max_depth=6, min_samples_leaf=40, min_samples_split=100, n_estimators=100, total=   0.2s\n",
            "[CV] max_depth=6, min_samples_leaf=40, min_samples_split=100, n_estimators=100 \n",
            "[CV]  max_depth=6, min_samples_leaf=40, min_samples_split=100, n_estimators=100, total=   0.2s\n",
            "[CV] max_depth=6, min_samples_leaf=40, min_samples_split=100, n_estimators=100 \n",
            "[CV]  max_depth=6, min_samples_leaf=40, min_samples_split=100, n_estimators=100, total=   0.2s\n",
            "[CV] max_depth=6, min_samples_leaf=40, min_samples_split=100, n_estimators=100 \n",
            "[CV]  max_depth=6, min_samples_leaf=40, min_samples_split=100, n_estimators=100, total=   0.2s\n",
            "[CV] max_depth=6, min_samples_leaf=40, min_samples_split=150, n_estimators=50 \n",
            "[CV]  max_depth=6, min_samples_leaf=40, min_samples_split=150, n_estimators=50, total=   0.1s\n",
            "[CV] max_depth=6, min_samples_leaf=40, min_samples_split=150, n_estimators=50 \n",
            "[CV]  max_depth=6, min_samples_leaf=40, min_samples_split=150, n_estimators=50, total=   0.1s\n",
            "[CV] max_depth=6, min_samples_leaf=40, min_samples_split=150, n_estimators=50 \n",
            "[CV]  max_depth=6, min_samples_leaf=40, min_samples_split=150, n_estimators=50, total=   0.1s\n",
            "[CV] max_depth=6, min_samples_leaf=40, min_samples_split=150, n_estimators=50 \n",
            "[CV]  max_depth=6, min_samples_leaf=40, min_samples_split=150, n_estimators=50, total=   0.1s\n",
            "[CV] max_depth=6, min_samples_leaf=40, min_samples_split=150, n_estimators=50 \n",
            "[CV]  max_depth=6, min_samples_leaf=40, min_samples_split=150, n_estimators=50, total=   0.1s\n",
            "[CV] max_depth=6, min_samples_leaf=40, min_samples_split=150, n_estimators=80 \n",
            "[CV]  max_depth=6, min_samples_leaf=40, min_samples_split=150, n_estimators=80, total=   0.2s\n",
            "[CV] max_depth=6, min_samples_leaf=40, min_samples_split=150, n_estimators=80 \n",
            "[CV]  max_depth=6, min_samples_leaf=40, min_samples_split=150, n_estimators=80, total=   0.2s\n",
            "[CV] max_depth=6, min_samples_leaf=40, min_samples_split=150, n_estimators=80 \n",
            "[CV]  max_depth=6, min_samples_leaf=40, min_samples_split=150, n_estimators=80, total=   0.2s\n",
            "[CV] max_depth=6, min_samples_leaf=40, min_samples_split=150, n_estimators=80 \n",
            "[CV]  max_depth=6, min_samples_leaf=40, min_samples_split=150, n_estimators=80, total=   0.2s\n",
            "[CV] max_depth=6, min_samples_leaf=40, min_samples_split=150, n_estimators=80 \n",
            "[CV]  max_depth=6, min_samples_leaf=40, min_samples_split=150, n_estimators=80, total=   0.2s\n",
            "[CV] max_depth=6, min_samples_leaf=40, min_samples_split=150, n_estimators=100 \n",
            "[CV]  max_depth=6, min_samples_leaf=40, min_samples_split=150, n_estimators=100, total=   0.2s\n",
            "[CV] max_depth=6, min_samples_leaf=40, min_samples_split=150, n_estimators=100 \n",
            "[CV]  max_depth=6, min_samples_leaf=40, min_samples_split=150, n_estimators=100, total=   0.2s\n",
            "[CV] max_depth=6, min_samples_leaf=40, min_samples_split=150, n_estimators=100 \n",
            "[CV]  max_depth=6, min_samples_leaf=40, min_samples_split=150, n_estimators=100, total=   0.2s\n",
            "[CV] max_depth=6, min_samples_leaf=40, min_samples_split=150, n_estimators=100 \n",
            "[CV]  max_depth=6, min_samples_leaf=40, min_samples_split=150, n_estimators=100, total=   0.2s\n",
            "[CV] max_depth=6, min_samples_leaf=40, min_samples_split=150, n_estimators=100 \n",
            "[CV]  max_depth=6, min_samples_leaf=40, min_samples_split=150, n_estimators=100, total=   0.2s\n",
            "[CV] max_depth=6, min_samples_leaf=50, min_samples_split=50, n_estimators=50 \n",
            "[CV]  max_depth=6, min_samples_leaf=50, min_samples_split=50, n_estimators=50, total=   0.1s\n",
            "[CV] max_depth=6, min_samples_leaf=50, min_samples_split=50, n_estimators=50 \n",
            "[CV]  max_depth=6, min_samples_leaf=50, min_samples_split=50, n_estimators=50, total=   0.1s\n",
            "[CV] max_depth=6, min_samples_leaf=50, min_samples_split=50, n_estimators=50 \n",
            "[CV]  max_depth=6, min_samples_leaf=50, min_samples_split=50, n_estimators=50, total=   0.1s\n",
            "[CV] max_depth=6, min_samples_leaf=50, min_samples_split=50, n_estimators=50 \n",
            "[CV]  max_depth=6, min_samples_leaf=50, min_samples_split=50, n_estimators=50, total=   0.1s\n",
            "[CV] max_depth=6, min_samples_leaf=50, min_samples_split=50, n_estimators=50 \n",
            "[CV]  max_depth=6, min_samples_leaf=50, min_samples_split=50, n_estimators=50, total=   0.1s\n",
            "[CV] max_depth=6, min_samples_leaf=50, min_samples_split=50, n_estimators=80 \n",
            "[CV]  max_depth=6, min_samples_leaf=50, min_samples_split=50, n_estimators=80, total=   0.2s\n",
            "[CV] max_depth=6, min_samples_leaf=50, min_samples_split=50, n_estimators=80 \n",
            "[CV]  max_depth=6, min_samples_leaf=50, min_samples_split=50, n_estimators=80, total=   0.2s\n",
            "[CV] max_depth=6, min_samples_leaf=50, min_samples_split=50, n_estimators=80 \n",
            "[CV]  max_depth=6, min_samples_leaf=50, min_samples_split=50, n_estimators=80, total=   0.2s\n",
            "[CV] max_depth=6, min_samples_leaf=50, min_samples_split=50, n_estimators=80 \n",
            "[CV]  max_depth=6, min_samples_leaf=50, min_samples_split=50, n_estimators=80, total=   0.2s\n",
            "[CV] max_depth=6, min_samples_leaf=50, min_samples_split=50, n_estimators=80 \n",
            "[CV]  max_depth=6, min_samples_leaf=50, min_samples_split=50, n_estimators=80, total=   0.2s\n",
            "[CV] max_depth=6, min_samples_leaf=50, min_samples_split=50, n_estimators=100 \n",
            "[CV]  max_depth=6, min_samples_leaf=50, min_samples_split=50, n_estimators=100, total=   0.2s\n",
            "[CV] max_depth=6, min_samples_leaf=50, min_samples_split=50, n_estimators=100 \n",
            "[CV]  max_depth=6, min_samples_leaf=50, min_samples_split=50, n_estimators=100, total=   0.2s\n",
            "[CV] max_depth=6, min_samples_leaf=50, min_samples_split=50, n_estimators=100 \n",
            "[CV]  max_depth=6, min_samples_leaf=50, min_samples_split=50, n_estimators=100, total=   0.2s\n",
            "[CV] max_depth=6, min_samples_leaf=50, min_samples_split=50, n_estimators=100 \n",
            "[CV]  max_depth=6, min_samples_leaf=50, min_samples_split=50, n_estimators=100, total=   0.2s\n",
            "[CV] max_depth=6, min_samples_leaf=50, min_samples_split=50, n_estimators=100 \n",
            "[CV]  max_depth=6, min_samples_leaf=50, min_samples_split=50, n_estimators=100, total=   0.2s\n",
            "[CV] max_depth=6, min_samples_leaf=50, min_samples_split=100, n_estimators=50 \n",
            "[CV]  max_depth=6, min_samples_leaf=50, min_samples_split=100, n_estimators=50, total=   0.1s\n",
            "[CV] max_depth=6, min_samples_leaf=50, min_samples_split=100, n_estimators=50 \n",
            "[CV]  max_depth=6, min_samples_leaf=50, min_samples_split=100, n_estimators=50, total=   0.1s\n",
            "[CV] max_depth=6, min_samples_leaf=50, min_samples_split=100, n_estimators=50 \n",
            "[CV]  max_depth=6, min_samples_leaf=50, min_samples_split=100, n_estimators=50, total=   0.1s\n",
            "[CV] max_depth=6, min_samples_leaf=50, min_samples_split=100, n_estimators=50 \n",
            "[CV]  max_depth=6, min_samples_leaf=50, min_samples_split=100, n_estimators=50, total=   0.1s\n",
            "[CV] max_depth=6, min_samples_leaf=50, min_samples_split=100, n_estimators=50 \n",
            "[CV]  max_depth=6, min_samples_leaf=50, min_samples_split=100, n_estimators=50, total=   0.1s\n",
            "[CV] max_depth=6, min_samples_leaf=50, min_samples_split=100, n_estimators=80 \n",
            "[CV]  max_depth=6, min_samples_leaf=50, min_samples_split=100, n_estimators=80, total=   0.2s\n",
            "[CV] max_depth=6, min_samples_leaf=50, min_samples_split=100, n_estimators=80 \n",
            "[CV]  max_depth=6, min_samples_leaf=50, min_samples_split=100, n_estimators=80, total=   0.2s\n",
            "[CV] max_depth=6, min_samples_leaf=50, min_samples_split=100, n_estimators=80 \n",
            "[CV]  max_depth=6, min_samples_leaf=50, min_samples_split=100, n_estimators=80, total=   0.2s\n",
            "[CV] max_depth=6, min_samples_leaf=50, min_samples_split=100, n_estimators=80 \n",
            "[CV]  max_depth=6, min_samples_leaf=50, min_samples_split=100, n_estimators=80, total=   0.2s\n",
            "[CV] max_depth=6, min_samples_leaf=50, min_samples_split=100, n_estimators=80 \n",
            "[CV]  max_depth=6, min_samples_leaf=50, min_samples_split=100, n_estimators=80, total=   0.2s\n",
            "[CV] max_depth=6, min_samples_leaf=50, min_samples_split=100, n_estimators=100 \n",
            "[CV]  max_depth=6, min_samples_leaf=50, min_samples_split=100, n_estimators=100, total=   0.2s\n",
            "[CV] max_depth=6, min_samples_leaf=50, min_samples_split=100, n_estimators=100 \n",
            "[CV]  max_depth=6, min_samples_leaf=50, min_samples_split=100, n_estimators=100, total=   0.2s\n",
            "[CV] max_depth=6, min_samples_leaf=50, min_samples_split=100, n_estimators=100 \n",
            "[CV]  max_depth=6, min_samples_leaf=50, min_samples_split=100, n_estimators=100, total=   0.2s\n",
            "[CV] max_depth=6, min_samples_leaf=50, min_samples_split=100, n_estimators=100 \n",
            "[CV]  max_depth=6, min_samples_leaf=50, min_samples_split=100, n_estimators=100, total=   0.2s\n",
            "[CV] max_depth=6, min_samples_leaf=50, min_samples_split=100, n_estimators=100 \n",
            "[CV]  max_depth=6, min_samples_leaf=50, min_samples_split=100, n_estimators=100, total=   0.2s\n",
            "[CV] max_depth=6, min_samples_leaf=50, min_samples_split=150, n_estimators=50 \n",
            "[CV]  max_depth=6, min_samples_leaf=50, min_samples_split=150, n_estimators=50, total=   0.1s\n",
            "[CV] max_depth=6, min_samples_leaf=50, min_samples_split=150, n_estimators=50 \n",
            "[CV]  max_depth=6, min_samples_leaf=50, min_samples_split=150, n_estimators=50, total=   0.1s\n",
            "[CV] max_depth=6, min_samples_leaf=50, min_samples_split=150, n_estimators=50 \n",
            "[CV]  max_depth=6, min_samples_leaf=50, min_samples_split=150, n_estimators=50, total=   0.1s\n",
            "[CV] max_depth=6, min_samples_leaf=50, min_samples_split=150, n_estimators=50 \n",
            "[CV]  max_depth=6, min_samples_leaf=50, min_samples_split=150, n_estimators=50, total=   0.1s\n",
            "[CV] max_depth=6, min_samples_leaf=50, min_samples_split=150, n_estimators=50 \n",
            "[CV]  max_depth=6, min_samples_leaf=50, min_samples_split=150, n_estimators=50, total=   0.1s\n",
            "[CV] max_depth=6, min_samples_leaf=50, min_samples_split=150, n_estimators=80 \n",
            "[CV]  max_depth=6, min_samples_leaf=50, min_samples_split=150, n_estimators=80, total=   0.2s\n",
            "[CV] max_depth=6, min_samples_leaf=50, min_samples_split=150, n_estimators=80 \n",
            "[CV]  max_depth=6, min_samples_leaf=50, min_samples_split=150, n_estimators=80, total=   0.2s\n",
            "[CV] max_depth=6, min_samples_leaf=50, min_samples_split=150, n_estimators=80 \n",
            "[CV]  max_depth=6, min_samples_leaf=50, min_samples_split=150, n_estimators=80, total=   0.2s\n",
            "[CV] max_depth=6, min_samples_leaf=50, min_samples_split=150, n_estimators=80 \n",
            "[CV]  max_depth=6, min_samples_leaf=50, min_samples_split=150, n_estimators=80, total=   0.2s\n",
            "[CV] max_depth=6, min_samples_leaf=50, min_samples_split=150, n_estimators=80 \n",
            "[CV]  max_depth=6, min_samples_leaf=50, min_samples_split=150, n_estimators=80, total=   0.2s\n",
            "[CV] max_depth=6, min_samples_leaf=50, min_samples_split=150, n_estimators=100 \n",
            "[CV]  max_depth=6, min_samples_leaf=50, min_samples_split=150, n_estimators=100, total=   0.2s\n",
            "[CV] max_depth=6, min_samples_leaf=50, min_samples_split=150, n_estimators=100 \n",
            "[CV]  max_depth=6, min_samples_leaf=50, min_samples_split=150, n_estimators=100, total=   0.2s\n",
            "[CV] max_depth=6, min_samples_leaf=50, min_samples_split=150, n_estimators=100 \n",
            "[CV]  max_depth=6, min_samples_leaf=50, min_samples_split=150, n_estimators=100, total=   0.2s\n",
            "[CV] max_depth=6, min_samples_leaf=50, min_samples_split=150, n_estimators=100 \n",
            "[CV]  max_depth=6, min_samples_leaf=50, min_samples_split=150, n_estimators=100, total=   0.2s\n",
            "[CV] max_depth=6, min_samples_leaf=50, min_samples_split=150, n_estimators=100 \n",
            "[CV]  max_depth=6, min_samples_leaf=50, min_samples_split=150, n_estimators=100, total=   0.2s\n",
            "[CV] max_depth=8, min_samples_leaf=40, min_samples_split=50, n_estimators=50 \n",
            "[CV]  max_depth=8, min_samples_leaf=40, min_samples_split=50, n_estimators=50, total=   0.1s\n",
            "[CV] max_depth=8, min_samples_leaf=40, min_samples_split=50, n_estimators=50 \n",
            "[CV]  max_depth=8, min_samples_leaf=40, min_samples_split=50, n_estimators=50, total=   0.1s\n",
            "[CV] max_depth=8, min_samples_leaf=40, min_samples_split=50, n_estimators=50 \n",
            "[CV]  max_depth=8, min_samples_leaf=40, min_samples_split=50, n_estimators=50, total=   0.1s\n",
            "[CV] max_depth=8, min_samples_leaf=40, min_samples_split=50, n_estimators=50 \n",
            "[CV]  max_depth=8, min_samples_leaf=40, min_samples_split=50, n_estimators=50, total=   0.1s\n",
            "[CV] max_depth=8, min_samples_leaf=40, min_samples_split=50, n_estimators=50 \n",
            "[CV]  max_depth=8, min_samples_leaf=40, min_samples_split=50, n_estimators=50, total=   0.1s\n",
            "[CV] max_depth=8, min_samples_leaf=40, min_samples_split=50, n_estimators=80 \n",
            "[CV]  max_depth=8, min_samples_leaf=40, min_samples_split=50, n_estimators=80, total=   0.2s\n",
            "[CV] max_depth=8, min_samples_leaf=40, min_samples_split=50, n_estimators=80 \n",
            "[CV]  max_depth=8, min_samples_leaf=40, min_samples_split=50, n_estimators=80, total=   0.2s\n",
            "[CV] max_depth=8, min_samples_leaf=40, min_samples_split=50, n_estimators=80 \n",
            "[CV]  max_depth=8, min_samples_leaf=40, min_samples_split=50, n_estimators=80, total=   0.2s\n",
            "[CV] max_depth=8, min_samples_leaf=40, min_samples_split=50, n_estimators=80 \n",
            "[CV]  max_depth=8, min_samples_leaf=40, min_samples_split=50, n_estimators=80, total=   0.2s\n",
            "[CV] max_depth=8, min_samples_leaf=40, min_samples_split=50, n_estimators=80 \n",
            "[CV]  max_depth=8, min_samples_leaf=40, min_samples_split=50, n_estimators=80, total=   0.2s\n",
            "[CV] max_depth=8, min_samples_leaf=40, min_samples_split=50, n_estimators=100 \n",
            "[CV]  max_depth=8, min_samples_leaf=40, min_samples_split=50, n_estimators=100, total=   0.2s\n",
            "[CV] max_depth=8, min_samples_leaf=40, min_samples_split=50, n_estimators=100 \n",
            "[CV]  max_depth=8, min_samples_leaf=40, min_samples_split=50, n_estimators=100, total=   0.2s\n",
            "[CV] max_depth=8, min_samples_leaf=40, min_samples_split=50, n_estimators=100 \n",
            "[CV]  max_depth=8, min_samples_leaf=40, min_samples_split=50, n_estimators=100, total=   0.2s\n",
            "[CV] max_depth=8, min_samples_leaf=40, min_samples_split=50, n_estimators=100 \n",
            "[CV]  max_depth=8, min_samples_leaf=40, min_samples_split=50, n_estimators=100, total=   0.2s\n",
            "[CV] max_depth=8, min_samples_leaf=40, min_samples_split=50, n_estimators=100 \n",
            "[CV]  max_depth=8, min_samples_leaf=40, min_samples_split=50, n_estimators=100, total=   0.2s\n",
            "[CV] max_depth=8, min_samples_leaf=40, min_samples_split=100, n_estimators=50 \n",
            "[CV]  max_depth=8, min_samples_leaf=40, min_samples_split=100, n_estimators=50, total=   0.1s\n",
            "[CV] max_depth=8, min_samples_leaf=40, min_samples_split=100, n_estimators=50 \n",
            "[CV]  max_depth=8, min_samples_leaf=40, min_samples_split=100, n_estimators=50, total=   0.1s\n",
            "[CV] max_depth=8, min_samples_leaf=40, min_samples_split=100, n_estimators=50 \n",
            "[CV]  max_depth=8, min_samples_leaf=40, min_samples_split=100, n_estimators=50, total=   0.1s\n",
            "[CV] max_depth=8, min_samples_leaf=40, min_samples_split=100, n_estimators=50 \n",
            "[CV]  max_depth=8, min_samples_leaf=40, min_samples_split=100, n_estimators=50, total=   0.1s\n",
            "[CV] max_depth=8, min_samples_leaf=40, min_samples_split=100, n_estimators=50 \n",
            "[CV]  max_depth=8, min_samples_leaf=40, min_samples_split=100, n_estimators=50, total=   0.1s\n",
            "[CV] max_depth=8, min_samples_leaf=40, min_samples_split=100, n_estimators=80 \n",
            "[CV]  max_depth=8, min_samples_leaf=40, min_samples_split=100, n_estimators=80, total=   0.2s\n",
            "[CV] max_depth=8, min_samples_leaf=40, min_samples_split=100, n_estimators=80 \n",
            "[CV]  max_depth=8, min_samples_leaf=40, min_samples_split=100, n_estimators=80, total=   0.2s\n",
            "[CV] max_depth=8, min_samples_leaf=40, min_samples_split=100, n_estimators=80 \n",
            "[CV]  max_depth=8, min_samples_leaf=40, min_samples_split=100, n_estimators=80, total=   0.2s\n",
            "[CV] max_depth=8, min_samples_leaf=40, min_samples_split=100, n_estimators=80 \n",
            "[CV]  max_depth=8, min_samples_leaf=40, min_samples_split=100, n_estimators=80, total=   0.2s\n",
            "[CV] max_depth=8, min_samples_leaf=40, min_samples_split=100, n_estimators=80 \n",
            "[CV]  max_depth=8, min_samples_leaf=40, min_samples_split=100, n_estimators=80, total=   0.2s\n",
            "[CV] max_depth=8, min_samples_leaf=40, min_samples_split=100, n_estimators=100 \n",
            "[CV]  max_depth=8, min_samples_leaf=40, min_samples_split=100, n_estimators=100, total=   0.2s\n",
            "[CV] max_depth=8, min_samples_leaf=40, min_samples_split=100, n_estimators=100 \n",
            "[CV]  max_depth=8, min_samples_leaf=40, min_samples_split=100, n_estimators=100, total=   0.2s\n",
            "[CV] max_depth=8, min_samples_leaf=40, min_samples_split=100, n_estimators=100 \n",
            "[CV]  max_depth=8, min_samples_leaf=40, min_samples_split=100, n_estimators=100, total=   0.2s\n",
            "[CV] max_depth=8, min_samples_leaf=40, min_samples_split=100, n_estimators=100 \n",
            "[CV]  max_depth=8, min_samples_leaf=40, min_samples_split=100, n_estimators=100, total=   0.2s\n",
            "[CV] max_depth=8, min_samples_leaf=40, min_samples_split=100, n_estimators=100 \n",
            "[CV]  max_depth=8, min_samples_leaf=40, min_samples_split=100, n_estimators=100, total=   0.2s\n",
            "[CV] max_depth=8, min_samples_leaf=40, min_samples_split=150, n_estimators=50 \n",
            "[CV]  max_depth=8, min_samples_leaf=40, min_samples_split=150, n_estimators=50, total=   0.1s\n",
            "[CV] max_depth=8, min_samples_leaf=40, min_samples_split=150, n_estimators=50 \n",
            "[CV]  max_depth=8, min_samples_leaf=40, min_samples_split=150, n_estimators=50, total=   0.1s\n",
            "[CV] max_depth=8, min_samples_leaf=40, min_samples_split=150, n_estimators=50 \n",
            "[CV]  max_depth=8, min_samples_leaf=40, min_samples_split=150, n_estimators=50, total=   0.1s\n",
            "[CV] max_depth=8, min_samples_leaf=40, min_samples_split=150, n_estimators=50 \n",
            "[CV]  max_depth=8, min_samples_leaf=40, min_samples_split=150, n_estimators=50, total=   0.1s\n",
            "[CV] max_depth=8, min_samples_leaf=40, min_samples_split=150, n_estimators=50 \n",
            "[CV]  max_depth=8, min_samples_leaf=40, min_samples_split=150, n_estimators=50, total=   0.1s\n",
            "[CV] max_depth=8, min_samples_leaf=40, min_samples_split=150, n_estimators=80 \n",
            "[CV]  max_depth=8, min_samples_leaf=40, min_samples_split=150, n_estimators=80, total=   0.2s\n",
            "[CV] max_depth=8, min_samples_leaf=40, min_samples_split=150, n_estimators=80 \n",
            "[CV]  max_depth=8, min_samples_leaf=40, min_samples_split=150, n_estimators=80, total=   0.2s\n",
            "[CV] max_depth=8, min_samples_leaf=40, min_samples_split=150, n_estimators=80 \n",
            "[CV]  max_depth=8, min_samples_leaf=40, min_samples_split=150, n_estimators=80, total=   0.2s\n",
            "[CV] max_depth=8, min_samples_leaf=40, min_samples_split=150, n_estimators=80 \n",
            "[CV]  max_depth=8, min_samples_leaf=40, min_samples_split=150, n_estimators=80, total=   0.2s\n",
            "[CV] max_depth=8, min_samples_leaf=40, min_samples_split=150, n_estimators=80 \n",
            "[CV]  max_depth=8, min_samples_leaf=40, min_samples_split=150, n_estimators=80, total=   0.2s\n",
            "[CV] max_depth=8, min_samples_leaf=40, min_samples_split=150, n_estimators=100 \n",
            "[CV]  max_depth=8, min_samples_leaf=40, min_samples_split=150, n_estimators=100, total=   0.2s\n",
            "[CV] max_depth=8, min_samples_leaf=40, min_samples_split=150, n_estimators=100 \n",
            "[CV]  max_depth=8, min_samples_leaf=40, min_samples_split=150, n_estimators=100, total=   0.2s\n",
            "[CV] max_depth=8, min_samples_leaf=40, min_samples_split=150, n_estimators=100 \n",
            "[CV]  max_depth=8, min_samples_leaf=40, min_samples_split=150, n_estimators=100, total=   0.2s\n",
            "[CV] max_depth=8, min_samples_leaf=40, min_samples_split=150, n_estimators=100 \n",
            "[CV]  max_depth=8, min_samples_leaf=40, min_samples_split=150, n_estimators=100, total=   0.2s\n",
            "[CV] max_depth=8, min_samples_leaf=40, min_samples_split=150, n_estimators=100 \n",
            "[CV]  max_depth=8, min_samples_leaf=40, min_samples_split=150, n_estimators=100, total=   0.2s\n",
            "[CV] max_depth=8, min_samples_leaf=50, min_samples_split=50, n_estimators=50 \n",
            "[CV]  max_depth=8, min_samples_leaf=50, min_samples_split=50, n_estimators=50, total=   0.1s\n",
            "[CV] max_depth=8, min_samples_leaf=50, min_samples_split=50, n_estimators=50 \n",
            "[CV]  max_depth=8, min_samples_leaf=50, min_samples_split=50, n_estimators=50, total=   0.1s\n",
            "[CV] max_depth=8, min_samples_leaf=50, min_samples_split=50, n_estimators=50 \n",
            "[CV]  max_depth=8, min_samples_leaf=50, min_samples_split=50, n_estimators=50, total=   0.1s\n",
            "[CV] max_depth=8, min_samples_leaf=50, min_samples_split=50, n_estimators=50 \n",
            "[CV]  max_depth=8, min_samples_leaf=50, min_samples_split=50, n_estimators=50, total=   0.1s\n",
            "[CV] max_depth=8, min_samples_leaf=50, min_samples_split=50, n_estimators=50 \n",
            "[CV]  max_depth=8, min_samples_leaf=50, min_samples_split=50, n_estimators=50, total=   0.1s\n",
            "[CV] max_depth=8, min_samples_leaf=50, min_samples_split=50, n_estimators=80 \n",
            "[CV]  max_depth=8, min_samples_leaf=50, min_samples_split=50, n_estimators=80, total=   0.2s\n",
            "[CV] max_depth=8, min_samples_leaf=50, min_samples_split=50, n_estimators=80 \n",
            "[CV]  max_depth=8, min_samples_leaf=50, min_samples_split=50, n_estimators=80, total=   0.2s\n",
            "[CV] max_depth=8, min_samples_leaf=50, min_samples_split=50, n_estimators=80 \n",
            "[CV]  max_depth=8, min_samples_leaf=50, min_samples_split=50, n_estimators=80, total=   0.2s\n",
            "[CV] max_depth=8, min_samples_leaf=50, min_samples_split=50, n_estimators=80 \n",
            "[CV]  max_depth=8, min_samples_leaf=50, min_samples_split=50, n_estimators=80, total=   0.2s\n",
            "[CV] max_depth=8, min_samples_leaf=50, min_samples_split=50, n_estimators=80 \n",
            "[CV]  max_depth=8, min_samples_leaf=50, min_samples_split=50, n_estimators=80, total=   0.2s\n",
            "[CV] max_depth=8, min_samples_leaf=50, min_samples_split=50, n_estimators=100 \n",
            "[CV]  max_depth=8, min_samples_leaf=50, min_samples_split=50, n_estimators=100, total=   0.2s\n",
            "[CV] max_depth=8, min_samples_leaf=50, min_samples_split=50, n_estimators=100 \n",
            "[CV]  max_depth=8, min_samples_leaf=50, min_samples_split=50, n_estimators=100, total=   0.2s\n",
            "[CV] max_depth=8, min_samples_leaf=50, min_samples_split=50, n_estimators=100 \n",
            "[CV]  max_depth=8, min_samples_leaf=50, min_samples_split=50, n_estimators=100, total=   0.2s\n",
            "[CV] max_depth=8, min_samples_leaf=50, min_samples_split=50, n_estimators=100 \n",
            "[CV]  max_depth=8, min_samples_leaf=50, min_samples_split=50, n_estimators=100, total=   0.2s\n",
            "[CV] max_depth=8, min_samples_leaf=50, min_samples_split=50, n_estimators=100 \n",
            "[CV]  max_depth=8, min_samples_leaf=50, min_samples_split=50, n_estimators=100, total=   0.2s\n",
            "[CV] max_depth=8, min_samples_leaf=50, min_samples_split=100, n_estimators=50 \n",
            "[CV]  max_depth=8, min_samples_leaf=50, min_samples_split=100, n_estimators=50, total=   0.1s\n",
            "[CV] max_depth=8, min_samples_leaf=50, min_samples_split=100, n_estimators=50 \n",
            "[CV]  max_depth=8, min_samples_leaf=50, min_samples_split=100, n_estimators=50, total=   0.1s\n",
            "[CV] max_depth=8, min_samples_leaf=50, min_samples_split=100, n_estimators=50 \n",
            "[CV]  max_depth=8, min_samples_leaf=50, min_samples_split=100, n_estimators=50, total=   0.1s\n",
            "[CV] max_depth=8, min_samples_leaf=50, min_samples_split=100, n_estimators=50 \n",
            "[CV]  max_depth=8, min_samples_leaf=50, min_samples_split=100, n_estimators=50, total=   0.1s\n",
            "[CV] max_depth=8, min_samples_leaf=50, min_samples_split=100, n_estimators=50 \n",
            "[CV]  max_depth=8, min_samples_leaf=50, min_samples_split=100, n_estimators=50, total=   0.1s\n",
            "[CV] max_depth=8, min_samples_leaf=50, min_samples_split=100, n_estimators=80 \n",
            "[CV]  max_depth=8, min_samples_leaf=50, min_samples_split=100, n_estimators=80, total=   0.2s\n",
            "[CV] max_depth=8, min_samples_leaf=50, min_samples_split=100, n_estimators=80 \n",
            "[CV]  max_depth=8, min_samples_leaf=50, min_samples_split=100, n_estimators=80, total=   0.2s\n",
            "[CV] max_depth=8, min_samples_leaf=50, min_samples_split=100, n_estimators=80 \n",
            "[CV]  max_depth=8, min_samples_leaf=50, min_samples_split=100, n_estimators=80, total=   0.2s\n",
            "[CV] max_depth=8, min_samples_leaf=50, min_samples_split=100, n_estimators=80 \n",
            "[CV]  max_depth=8, min_samples_leaf=50, min_samples_split=100, n_estimators=80, total=   0.2s\n",
            "[CV] max_depth=8, min_samples_leaf=50, min_samples_split=100, n_estimators=80 \n",
            "[CV]  max_depth=8, min_samples_leaf=50, min_samples_split=100, n_estimators=80, total=   0.2s\n",
            "[CV] max_depth=8, min_samples_leaf=50, min_samples_split=100, n_estimators=100 \n",
            "[CV]  max_depth=8, min_samples_leaf=50, min_samples_split=100, n_estimators=100, total=   0.2s\n",
            "[CV] max_depth=8, min_samples_leaf=50, min_samples_split=100, n_estimators=100 \n",
            "[CV]  max_depth=8, min_samples_leaf=50, min_samples_split=100, n_estimators=100, total=   0.2s\n",
            "[CV] max_depth=8, min_samples_leaf=50, min_samples_split=100, n_estimators=100 \n",
            "[CV]  max_depth=8, min_samples_leaf=50, min_samples_split=100, n_estimators=100, total=   0.2s\n",
            "[CV] max_depth=8, min_samples_leaf=50, min_samples_split=100, n_estimators=100 \n",
            "[CV]  max_depth=8, min_samples_leaf=50, min_samples_split=100, n_estimators=100, total=   0.2s\n",
            "[CV] max_depth=8, min_samples_leaf=50, min_samples_split=100, n_estimators=100 \n",
            "[CV]  max_depth=8, min_samples_leaf=50, min_samples_split=100, n_estimators=100, total=   0.2s\n",
            "[CV] max_depth=8, min_samples_leaf=50, min_samples_split=150, n_estimators=50 \n",
            "[CV]  max_depth=8, min_samples_leaf=50, min_samples_split=150, n_estimators=50, total=   0.1s\n",
            "[CV] max_depth=8, min_samples_leaf=50, min_samples_split=150, n_estimators=50 \n",
            "[CV]  max_depth=8, min_samples_leaf=50, min_samples_split=150, n_estimators=50, total=   0.1s\n",
            "[CV] max_depth=8, min_samples_leaf=50, min_samples_split=150, n_estimators=50 \n",
            "[CV]  max_depth=8, min_samples_leaf=50, min_samples_split=150, n_estimators=50, total=   0.1s\n",
            "[CV] max_depth=8, min_samples_leaf=50, min_samples_split=150, n_estimators=50 \n",
            "[CV]  max_depth=8, min_samples_leaf=50, min_samples_split=150, n_estimators=50, total=   0.1s\n",
            "[CV] max_depth=8, min_samples_leaf=50, min_samples_split=150, n_estimators=50 \n",
            "[CV]  max_depth=8, min_samples_leaf=50, min_samples_split=150, n_estimators=50, total=   0.1s\n",
            "[CV] max_depth=8, min_samples_leaf=50, min_samples_split=150, n_estimators=80 \n",
            "[CV]  max_depth=8, min_samples_leaf=50, min_samples_split=150, n_estimators=80, total=   0.2s\n",
            "[CV] max_depth=8, min_samples_leaf=50, min_samples_split=150, n_estimators=80 \n",
            "[CV]  max_depth=8, min_samples_leaf=50, min_samples_split=150, n_estimators=80, total=   0.2s\n",
            "[CV] max_depth=8, min_samples_leaf=50, min_samples_split=150, n_estimators=80 \n",
            "[CV]  max_depth=8, min_samples_leaf=50, min_samples_split=150, n_estimators=80, total=   0.2s\n",
            "[CV] max_depth=8, min_samples_leaf=50, min_samples_split=150, n_estimators=80 \n",
            "[CV]  max_depth=8, min_samples_leaf=50, min_samples_split=150, n_estimators=80, total=   0.2s\n",
            "[CV] max_depth=8, min_samples_leaf=50, min_samples_split=150, n_estimators=80 \n",
            "[CV]  max_depth=8, min_samples_leaf=50, min_samples_split=150, n_estimators=80, total=   0.2s\n",
            "[CV] max_depth=8, min_samples_leaf=50, min_samples_split=150, n_estimators=100 \n",
            "[CV]  max_depth=8, min_samples_leaf=50, min_samples_split=150, n_estimators=100, total=   0.2s\n",
            "[CV] max_depth=8, min_samples_leaf=50, min_samples_split=150, n_estimators=100 \n",
            "[CV]  max_depth=8, min_samples_leaf=50, min_samples_split=150, n_estimators=100, total=   0.2s\n",
            "[CV] max_depth=8, min_samples_leaf=50, min_samples_split=150, n_estimators=100 \n",
            "[CV]  max_depth=8, min_samples_leaf=50, min_samples_split=150, n_estimators=100, total=   0.2s\n",
            "[CV] max_depth=8, min_samples_leaf=50, min_samples_split=150, n_estimators=100 \n",
            "[CV]  max_depth=8, min_samples_leaf=50, min_samples_split=150, n_estimators=100, total=   0.2s\n",
            "[CV] max_depth=8, min_samples_leaf=50, min_samples_split=150, n_estimators=100 \n",
            "[CV]  max_depth=8, min_samples_leaf=50, min_samples_split=150, n_estimators=100, total=   0.2s\n"
          ]
        },
        {
          "output_type": "stream",
          "name": "stderr",
          "text": [
            "[Parallel(n_jobs=1)]: Done 270 out of 270 | elapsed:   45.8s finished\n"
          ]
        },
        {
          "output_type": "execute_result",
          "data": {
            "text/plain": [
              "GridSearchCV(cv=5, error_score=nan,\n",
              "             estimator=RandomForestClassifier(bootstrap=True, ccp_alpha=0.0,\n",
              "                                              class_weight=None,\n",
              "                                              criterion='gini', max_depth=None,\n",
              "                                              max_features='auto',\n",
              "                                              max_leaf_nodes=None,\n",
              "                                              max_samples=None,\n",
              "                                              min_impurity_decrease=0.0,\n",
              "                                              min_impurity_split=None,\n",
              "                                              min_samples_leaf=1,\n",
              "                                              min_samples_split=2,\n",
              "                                              min_weight_fraction_leaf=0.0,\n",
              "                                              n_estimators=100, n_jobs=None,\n",
              "                                              oob_score=False,\n",
              "                                              random_state=None, verbose=0,\n",
              "                                              warm_start=False),\n",
              "             iid='deprecated', n_jobs=None,\n",
              "             param_grid={'max_depth': [4, 6, 8], 'min_samples_leaf': [40, 50],\n",
              "                         'min_samples_split': [50, 100, 150],\n",
              "                         'n_estimators': [50, 80, 100]},\n",
              "             pre_dispatch='2*n_jobs', refit=True, return_train_score=False,\n",
              "             scoring='accuracy', verbose=2)"
            ]
          },
          "metadata": {},
          "execution_count": 72
        }
      ]
    },
    {
      "cell_type": "code",
      "metadata": {
        "colab": {
          "base_uri": "https://localhost:8080/"
        },
        "id": "pkoHD1J7LxEG",
        "outputId": "853f8fb5-429b-4192-adc9-36fce6171c9d"
      },
      "source": [
        "rf_grid.best_estimator_"
      ],
      "execution_count": 73,
      "outputs": [
        {
          "output_type": "execute_result",
          "data": {
            "text/plain": [
              "RandomForestClassifier(bootstrap=True, ccp_alpha=0.0, class_weight=None,\n",
              "                       criterion='gini', max_depth=6, max_features='auto',\n",
              "                       max_leaf_nodes=None, max_samples=None,\n",
              "                       min_impurity_decrease=0.0, min_impurity_split=None,\n",
              "                       min_samples_leaf=40, min_samples_split=50,\n",
              "                       min_weight_fraction_leaf=0.0, n_estimators=80,\n",
              "                       n_jobs=None, oob_score=False, random_state=None,\n",
              "                       verbose=0, warm_start=False)"
            ]
          },
          "metadata": {},
          "execution_count": 73
        }
      ]
    },
    {
      "cell_type": "code",
      "metadata": {
        "id": "Rw7H2ofXMOFQ"
      },
      "source": [
        "rf_optimal_model = rf_grid.best_estimator_"
      ],
      "execution_count": 74,
      "outputs": []
    },
    {
      "cell_type": "code",
      "metadata": {
        "colab": {
          "base_uri": "https://localhost:8080/"
        },
        "id": "XPEn_pT0MR3o",
        "outputId": "0852c3df-6833-44bf-fa70-d36c32c2f4a5"
      },
      "source": [
        "rf_grid.best_params_"
      ],
      "execution_count": 75,
      "outputs": [
        {
          "output_type": "execute_result",
          "data": {
            "text/plain": [
              "{'max_depth': 6,\n",
              " 'min_samples_leaf': 40,\n",
              " 'min_samples_split': 50,\n",
              " 'n_estimators': 80}"
            ]
          },
          "metadata": {},
          "execution_count": 75
        }
      ]
    },
    {
      "cell_type": "code",
      "metadata": {
        "id": "Du2qOs4ZMVLj"
      },
      "source": [
        "# Making predictions on train and test data\n",
        "\n",
        "train_class_preds = rf_optimal_model.predict(X_train)\n",
        "test_class_preds = rf_optimal_model.predict(X_test)\n"
      ],
      "execution_count": 76,
      "outputs": []
    },
    {
      "cell_type": "code",
      "metadata": {
        "id": "Tqd_2zmeMaKv"
      },
      "source": [
        "# Get the probabilities on train and test\n",
        "train_preds = rf_optimal_model.predict_proba(X_train)[:,1]\n",
        "test_preds = rf_optimal_model.predict_proba(X_test)[:,1]"
      ],
      "execution_count": 77,
      "outputs": []
    },
    {
      "cell_type": "code",
      "metadata": {
        "colab": {
          "base_uri": "https://localhost:8080/"
        },
        "id": "eubxg1bzMhso",
        "outputId": "bd49a681-6888-42e0-8df4-f711ae4fe56b"
      },
      "source": [
        "len(train_preds)"
      ],
      "execution_count": 78,
      "outputs": [
        {
          "output_type": "execute_result",
          "data": {
            "text/plain": [
              "1340"
            ]
          },
          "metadata": {},
          "execution_count": 78
        }
      ]
    },
    {
      "cell_type": "code",
      "metadata": {
        "colab": {
          "base_uri": "https://localhost:8080/"
        },
        "id": "5vRGolpPMvyI",
        "outputId": "a20ad4d1-e900-4e6f-b3ea-24cb7ace06e0"
      },
      "source": [
        "train_class_preds"
      ],
      "execution_count": 79,
      "outputs": [
        {
          "output_type": "execute_result",
          "data": {
            "text/plain": [
              "array([1, 0, 0, ..., 3, 0, 0])"
            ]
          },
          "metadata": {},
          "execution_count": 79
        }
      ]
    },
    {
      "cell_type": "code",
      "metadata": {
        "colab": {
          "base_uri": "https://localhost:8080/"
        },
        "id": "19goRqc9Mmxh",
        "outputId": "48b4a4d9-ea26-4eb1-bf66-730d2bb9f366"
      },
      "source": [
        "test_class_preds"
      ],
      "execution_count": 80,
      "outputs": [
        {
          "output_type": "execute_result",
          "data": {
            "text/plain": [
              "array([0, 1, 3, 2, 1, 3, 3, 1, 3, 2, 3, 3, 1, 1, 0, 3, 2, 0, 3, 3, 0, 2,\n",
              "       1, 1, 3, 3, 1, 0, 1, 3, 3, 1, 3, 3, 1, 1, 3, 0, 3, 3, 2, 2, 2, 3,\n",
              "       1, 3, 2, 0, 3, 0, 1, 1, 0, 3, 2, 0, 1, 3, 2, 1, 0, 2, 2, 1, 0, 2,\n",
              "       0, 2, 0, 0, 0, 1, 3, 1, 2, 0, 2, 1, 1, 3, 2, 1, 1, 1, 3, 1, 3, 0,\n",
              "       0, 0, 0, 3, 3, 0, 3, 1, 3, 2, 3, 1, 1, 2, 2, 0, 0, 3, 3, 2, 1, 0,\n",
              "       3, 1, 1, 1, 0, 0, 2, 3, 3, 2, 0, 0, 1, 0, 3, 1, 0, 0, 0, 2, 3, 1,\n",
              "       3, 0, 1, 0, 1, 1, 0, 2, 1, 1, 3, 2, 3, 1, 3, 0, 3, 1, 1, 1, 3, 1,\n",
              "       2, 0, 0, 0, 3, 3, 1, 1, 2, 0, 2, 2, 1, 0, 1, 2, 3, 2, 0, 3, 3, 1,\n",
              "       1, 0, 1, 2, 1, 0, 2, 2, 1, 3, 3, 0, 2, 3, 3, 0, 1, 1, 1, 1, 3, 2,\n",
              "       3, 0, 2, 2, 0, 3, 1, 1, 1, 3, 2, 2, 2, 1, 3, 2, 2, 3, 3, 1, 2, 0,\n",
              "       1, 0, 3, 3, 3, 2, 0, 1, 3, 1, 3, 0, 3, 2, 0, 0, 2, 0, 0, 3, 0, 2,\n",
              "       0, 1, 3, 3, 2, 0, 1, 2, 0, 0, 3, 0, 3, 2, 3, 1, 1, 1, 1, 1, 3, 1,\n",
              "       0, 1, 0, 1, 1, 3, 1, 1, 2, 3, 3, 1, 3, 2, 2, 2, 2, 1, 0, 2, 1, 1,\n",
              "       0, 3, 0, 3, 3, 1, 1, 2, 0, 2, 3, 0, 0, 0, 1, 1, 1, 2, 3, 3, 2, 1,\n",
              "       1, 1, 0, 0, 1, 1, 3, 2, 1, 0, 2, 0, 2, 3, 3, 0, 3, 2, 0, 2, 3, 2,\n",
              "       1, 0, 2, 1, 2, 0, 2, 0, 1, 0, 0, 3, 3, 3, 1, 1, 2, 0, 0, 2, 3, 1,\n",
              "       2, 3, 3, 2, 3, 3, 1, 0, 0, 3, 0, 3, 0, 0, 0, 3, 1, 3, 3, 2, 2, 1,\n",
              "       1, 3, 0, 2, 0, 1, 1, 3, 0, 1, 1, 3, 0, 0, 1, 0, 1, 1, 2, 3, 2, 3,\n",
              "       2, 2, 3, 0, 3, 3, 0, 3, 0, 0, 0, 3, 0, 0, 1, 0, 1, 0, 3, 1, 1, 0,\n",
              "       3, 3, 1, 1, 3, 2, 3, 1, 3, 3, 1, 3, 3, 3, 0, 3, 3, 0, 3, 2, 0, 1,\n",
              "       0, 2, 3, 0, 0, 0, 1, 1, 0, 0, 3, 1, 0, 1, 1, 3, 0, 3, 1, 1, 0, 2,\n",
              "       3, 3, 0, 0, 1, 3, 3, 3, 3, 1, 1, 3, 0, 3, 1, 3, 2, 0, 2, 0, 1, 1,\n",
              "       1, 3, 1, 3, 3, 1, 3, 3, 3, 3, 3, 1, 3, 2, 2, 3, 0, 1, 1, 0, 0, 2,\n",
              "       2, 1, 1, 1, 3, 1, 0, 2, 3, 1, 2, 2, 1, 0, 1, 1, 0, 1, 1, 3, 2, 2,\n",
              "       3, 1, 1, 1, 0, 0, 0, 0, 3, 1, 3, 3, 1, 0, 0, 0, 3, 2, 3, 0, 1, 1,\n",
              "       2, 3, 3, 0, 0, 3, 3, 2, 3, 3, 3, 1, 3, 2, 3, 2, 1, 2, 0, 0, 0, 0,\n",
              "       0, 3, 2, 0, 0, 2, 1, 0, 1, 0, 1, 3, 3, 0, 3, 3, 1, 0, 1, 3, 2, 2,\n",
              "       1, 2, 0, 2, 3, 3, 2, 2, 1, 3, 1, 0, 2, 1, 3, 2, 1, 3, 3, 0, 3, 3,\n",
              "       2, 3, 1, 1, 0, 3, 1, 3, 2, 0, 0, 1, 2, 3, 3, 0, 3, 0, 3, 0, 0, 0,\n",
              "       1, 1, 1, 3, 3, 1, 0, 3, 0, 3, 2, 3, 2, 0, 2, 1, 1, 3, 2, 1, 1, 0])"
            ]
          },
          "metadata": {},
          "execution_count": 80
        }
      ]
    },
    {
      "cell_type": "code",
      "metadata": {
        "id": "eZ2AYP8bNSNM"
      },
      "source": [
        "from sklearn.metrics import accuracy_score"
      ],
      "execution_count": 81,
      "outputs": []
    },
    {
      "cell_type": "code",
      "metadata": {
        "colab": {
          "base_uri": "https://localhost:8080/"
        },
        "id": "VdSiMnxaMsNV",
        "outputId": "03718731-ec31-492a-d1fa-4949cc10aa9f"
      },
      "source": [
        "# Calculating accuracy on train and test\n",
        "train_accuracy = accuracy_score(y_train,train_class_preds)\n",
        "test_accuracy = accuracy_score(y_test,test_class_preds)\n",
        "\n",
        "print(\"The accuracy on train dataset is\", train_accuracy)\n",
        "print(\"The accuracy on test dataset is\", test_accuracy)"
      ],
      "execution_count": 82,
      "outputs": [
        {
          "output_type": "stream",
          "name": "stdout",
          "text": [
            "The accuracy on train dataset is 0.8567164179104477\n",
            "The accuracy on test dataset is 0.8090909090909091\n"
          ]
        }
      ]
    },
    {
      "cell_type": "code",
      "metadata": {
        "id": "c-BpS-teNPX1"
      },
      "source": [
        "# Get the confusion matrices for train and test\n",
        "train_cm = confusion_matrix(y_train,train_class_preds)\n",
        "test_cm = confusion_matrix(y_test,test_class_preds )"
      ],
      "execution_count": 83,
      "outputs": []
    },
    {
      "cell_type": "code",
      "metadata": {
        "colab": {
          "base_uri": "https://localhost:8080/"
        },
        "id": "GrDgB4U-NfBK",
        "outputId": "01a1fe96-e2ad-4072-bfc7-b11c044ded0a"
      },
      "source": [
        "train_cm"
      ],
      "execution_count": 84,
      "outputs": [
        {
          "output_type": "execute_result",
          "data": {
            "text/plain": [
              "array([[318,  17,   0,   0],\n",
              "       [ 32, 273,  30,   0],\n",
              "       [  0,  57, 236,  42],\n",
              "       [  0,   0,  14, 321]])"
            ]
          },
          "metadata": {},
          "execution_count": 84
        }
      ]
    },
    {
      "cell_type": "code",
      "metadata": {
        "colab": {
          "base_uri": "https://localhost:8080/"
        },
        "id": "IoDhspplNjDN",
        "outputId": "fdeb7ea9-7c6a-4571-e624-2c1575a6a16f"
      },
      "source": [
        "test_cm"
      ],
      "execution_count": 85,
      "outputs": [
        {
          "output_type": "execute_result",
          "data": {
            "text/plain": [
              "array([[153,  12,   0,   0],\n",
              "       [ 13, 133,  19,   0],\n",
              "       [  0,  36,  92,  37],\n",
              "       [  0,   0,   9, 156]])"
            ]
          },
          "metadata": {},
          "execution_count": 85
        }
      ]
    },
    {
      "cell_type": "code",
      "metadata": {
        "colab": {
          "base_uri": "https://localhost:8080/",
          "height": 407
        },
        "id": "3GLeookfUYVE",
        "outputId": "105dc1fb-719e-4a9d-e90a-cf1c503912a6"
      },
      "source": [
        "cm = confusion_matrix(y_train,train_class_preds)\n",
        "\n",
        "df1 = pd.DataFrame(columns=[\"0\",\"1\",\"2\",\"3\"], index= [\"0\",\"1\",\"2\",\"3\"], data= cm )\n",
        "\n",
        "f,ax = plt.subplots(figsize=(6,6))\n",
        "\n",
        "sns.heatmap(df1, annot=True,cmap=\"OrRd\", fmt= '.0f',\n",
        "            ax=ax,linewidths = 5, cbar = False,annot_kws={\"size\": 16})\n",
        "plt.xlabel(\"Predicted Label\")\n",
        "plt.xticks(size = 12)\n",
        "plt.yticks(size = 12, rotation = 0)\n",
        "plt.ylabel(\"True Label\")\n",
        "plt.title(\"Confusion Matrix\", size = 12)\n",
        "plt.show()"
      ],
      "execution_count": 86,
      "outputs": [
        {
          "output_type": "display_data",
          "data": {
            "image/png": "[encoded data removed]",
            "text/plain": [
              "<Figure size 432x432 with 1 Axes>"
            ]
          },
          "metadata": {}
        }
      ]
    },
    {
      "cell_type": "code",
      "metadata": {
        "colab": {
          "base_uri": "https://localhost:8080/",
          "height": 407
        },
        "id": "d3N3NxqHd4nx",
        "outputId": "a1e3e925-95ad-42fd-fc1e-0b7f564cdb8d"
      },
      "source": [
        "cm = confusion_matrix(y_test, test_class_preds)\n",
        "\n",
        "df1 = pd.DataFrame(columns=[\"0\",\"1\",\"2\",\"3\"], index= [\"0\",\"1\",\"2\",\"3\"], data= cm )\n",
        "\n",
        "f,ax = plt.subplots(figsize=(6,6))\n",
        "\n",
        "sns.heatmap(df1, annot=True,cmap=\"OrRd\", fmt= '.0f',\n",
        "            ax=ax,linewidths = 5, cbar = False,annot_kws={\"size\": 16})\n",
        "plt.xlabel(\"Predicted Label\")\n",
        "plt.xticks(size = 12)\n",
        "plt.yticks(size = 12, rotation = 0)\n",
        "plt.ylabel(\"True Label\")\n",
        "plt.title(\"Confusion Matrix\", size = 12)\n",
        "plt.show()"
      ],
      "execution_count": 87,
      "outputs": [
        {
          "output_type": "display_data",
          "data": {
            "image/png": "[encoded data removed]",
            "text/plain": [
              "<Figure size 432x432 with 1 Axes>"
            ]
          },
          "metadata": {}
        }
      ]
    },
    {
      "cell_type": "code",
      "metadata": {
        "colab": {
          "base_uri": "https://localhost:8080/"
        },
        "id": "ikfyzJ9teA-u",
        "outputId": "2ff929bb-9323-4b56-bcc4-9bf31896ee50"
      },
      "source": [
        "#classification report for train \n",
        "print(classification_report(y_train,train_class_preds))"
      ],
      "execution_count": 88,
      "outputs": [
        {
          "output_type": "stream",
          "name": "stdout",
          "text": [
            "              precision    recall  f1-score   support\n",
            "\n",
            "           0       0.91      0.95      0.93       335\n",
            "           1       0.79      0.81      0.80       335\n",
            "           2       0.84      0.70      0.77       335\n",
            "           3       0.88      0.96      0.92       335\n",
            "\n",
            "    accuracy                           0.86      1340\n",
            "   macro avg       0.86      0.86      0.85      1340\n",
            "weighted avg       0.86      0.86      0.85      1340\n",
            "\n"
          ]
        }
      ]
    },
    {
      "cell_type": "code",
      "metadata": {
        "colab": {
          "base_uri": "https://localhost:8080/"
        },
        "id": "xd7Wkh13u497",
        "outputId": "72fafd43-34a8-43d2-bc92-654824f1c088"
      },
      "source": [
        "#classification report for test\n",
        "print(classification_report(y_test,test_class_preds))"
      ],
      "execution_count": 89,
      "outputs": [
        {
          "output_type": "stream",
          "name": "stdout",
          "text": [
            "              precision    recall  f1-score   support\n",
            "\n",
            "           0       0.92      0.93      0.92       165\n",
            "           1       0.73      0.81      0.77       165\n",
            "           2       0.77      0.56      0.65       165\n",
            "           3       0.81      0.95      0.87       165\n",
            "\n",
            "    accuracy                           0.81       660\n",
            "   macro avg       0.81      0.81      0.80       660\n",
            "weighted avg       0.81      0.81      0.80       660\n",
            "\n"
          ]
        }
      ]
    },
    {
      "cell_type": "code",
      "metadata": {
        "id": "pWEOkxmv0Sgd"
      },
      "source": [
        ""
      ],
      "execution_count": 89,
      "outputs": []
    }
  ]
}